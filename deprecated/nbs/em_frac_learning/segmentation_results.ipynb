{
 "cells": [
  {
   "cell_type": "code",
   "execution_count": null,
   "metadata": {},
   "outputs": [],
   "source": [
    "import numpy as np\n",
    "import matplotlib.pyplot as plt\n",
    "import pickle\n",
    "import copy\n",
    "import os\n",
    "\n",
    "# Import ML tools\n",
    "from util import resolution_util as ru\n",
    "from util import plot_util as pu\n",
    "from util import deep_set_util as dsu"
   ]
  },
  {
   "attachments": {},
   "cell_type": "markdown",
   "metadata": {},
   "source": [
    "PointNet Results from Narval"
   ]
  },
  {
   "attachments": {},
   "cell_type": "markdown",
   "metadata": {},
   "source": [
    "Load Training History"
   ]
  },
  {
   "cell_type": "code",
   "execution_count": null,
   "metadata": {},
   "outputs": [],
   "source": [
    "with open('results/history2690520.pickle', 'rb') as pfn_base_histFile:\n",
    "    PointNet_hist = pickle.load(pfn_base_histFile)"
   ]
  },
  {
   "cell_type": "code",
   "execution_count": null,
   "metadata": {},
   "outputs": [],
   "source": [
    "fig = plt.figure(figsize=(10,6))\n",
    "plt.plot(PointNet_hist['val_loss'], label=\"Validation\", color='crimson',\n",
    "         ls='solid', alpha=.55)\n",
    "plt.plot(PointNet_hist['loss'], label=\"Training\", color='crimson',\n",
    "         ls=(0, (1, 10)), alpha=.65)\n",
    "\n",
    "plt.yscale('log')\n",
    "plt.ylim(.01,.09)\n",
    "plt.yticks(fontsize=13)\n",
    "plt.xlim(0,9)\n",
    "plt.xticks(fontsize=13)\n",
    "plt.xlabel('Epochs', fontsize=14)\n",
    "plt.ylabel('Loss', fontsize=14)\n",
    "plt.legend(loc='upper right', ncol=3)\n",
    "plt.text(6, 5e-2, 'LR=1e-2', fontsize=13)\n",
    "plt.text(6, 4e-2, 'Batch: 100', fontsize=13)\n",
    "plt.tight_layout()\n",
    "# plt.savefig('Plots/February22/PointNet_delta_Segmentation_'+\\\n",
    "#             'lossCurves_100batch_LR1e-2_2022-02-15.png', format='png')\n",
    "plt.show()"
   ]
  },
  {
   "attachments": {},
   "cell_type": "markdown",
   "metadata": {},
   "source": [
    "Targets vs Predictions"
   ]
  },
  {
   "cell_type": "code",
   "execution_count": null,
   "metadata": {},
   "outputs": [],
   "source": [
    "tpreds_PointNet_delta = np.load('results/target_preds2690520.npz')"
   ]
  },
  {
   "cell_type": "code",
   "execution_count": null,
   "metadata": {},
   "outputs": [],
   "source": [
    "print(tpreds_PointNet_delta['kwds'])\n",
    "PointNet_delta_target = np.squeeze(tpreds_PointNet_delta['args'][0], axis=2)\n",
    "PointNet_delta_preds = np.squeeze(tpreds_PointNet_delta['args'][1], axis=2)\n",
    "print(PointNet_delta_target.shape)\n",
    "print(PointNet_delta_preds.shape)"
   ]
  },
  {
   "cell_type": "code",
   "execution_count": null,
   "metadata": {},
   "outputs": [],
   "source": [
    "nz_mask = PointNet_delta_target != 0"
   ]
  },
  {
   "cell_type": "code",
   "execution_count": null,
   "metadata": {},
   "outputs": [],
   "source": [
    "plt.cla(); plt.clf()\n",
    "fig = plt.figure(figsize=(10,6))\n",
    "\n",
    "EMbins = np.linspace(0,1,50, endpoint=True)\n",
    "plt.hist(PointNet_delta_preds[nz_mask], color='indianred', bins=EMbins, density=True,\n",
    "        alpha=.35, edgecolor='black', label='Predictions')\n",
    "plt.hist(PointNet_delta_target[nz_mask], color='goldenrod', bins=EMbins, density=True,\n",
    "        alpha=.35, edgecolor='black', label='Truth')\n",
    "plt.title('NonEM Versus EM Per Cell', fontsize=16)\n",
    "plt.xlabel('EM Fraction', fontsize=14)\n",
    "plt.xlim(0,1)\n",
    "plt.ylim(0,5)\n",
    "plt.xticks(fontsize=13)\n",
    "plt.yticks(fontsize=13)\n",
    "plt.legend(loc='upper left', frameon=True, fancybox=True, prop={'size': 13})\n",
    "plt.tight_layout()\n",
    "# plt.savefig('Plots/February22/predsHist_pnetDelta_LR1e-2_batch100_Epochs10_'+\\\n",
    "#             'Train2.5e5_2022-02-15.png', format='png')\n",
    "plt.show()"
   ]
  }
 ],
 "metadata": {
  "language_info": {
   "name": "python"
  },
  "orig_nbformat": 4
 },
 "nbformat": 4,
 "nbformat_minor": 2
}
