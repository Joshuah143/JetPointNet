{
 "cells": [
  {
   "cell_type": "code",
   "execution_count": 6,
   "metadata": {},
   "outputs": [
    {
     "name": "stdout",
     "output_type": "stream",
     "text": [
      "Event [161730] has [8] truth particles.\n",
      "[<STLVector [[[7.2752686, 463.04468], [3.671875, 17.014404], [84.10394], ..., [], [], []], ...] at 0x7f38a4919330>]\n"
     ]
    },
    {
     "ename": "TypeError",
     "evalue": "'>' not supported between instances of 'STLVector' and 'int'",
     "output_type": "error",
     "traceback": [
      "\u001b[0;31m---------------------------------------------------------------------------\u001b[0m",
      "\u001b[0;31mTypeError\u001b[0m                                 Traceback (most recent call last)",
      "Cell \u001b[0;32mIn[6], line 36\u001b[0m\n\u001b[1;32m     34\u001b[0m hits_truth_energy \u001b[38;5;241m=\u001b[39m event_data[\u001b[38;5;124m\"\u001b[39m\u001b[38;5;124mcluster_cell_hitsTruthE\u001b[39m\u001b[38;5;124m\"\u001b[39m]  \u001b[38;5;66;03m# Placeholder for total adjusted energy\u001b[39;00m\n\u001b[1;32m     35\u001b[0m \u001b[38;5;28mprint\u001b[39m(hits_truth_energy)\n\u001b[0;32m---> 36\u001b[0m mask \u001b[38;5;241m=\u001b[39m \u001b[43mhits_truth_energy\u001b[49m\u001b[43m \u001b[49m\u001b[38;5;241;43m>\u001b[39;49m\u001b[43m \u001b[49m\u001b[38;5;241;43m0\u001b[39;49m\n\u001b[1;32m     37\u001b[0m x_energy, y_energy, z_energy \u001b[38;5;241m=\u001b[39m x[mask], y[mask], z[mask]\n\u001b[1;32m     38\u001b[0m energy \u001b[38;5;241m=\u001b[39m hits_truth_energy[mask]\n",
      "\u001b[0;31mTypeError\u001b[0m: '>' not supported between instances of 'STLVector' and 'int'"
     ]
    }
   ],
   "source": [
    "import uproot\n",
    "import awkward as ak\n",
    "import numpy as np\n",
    "import matplotlib.pyplot as plt\n",
    "from mpl_toolkits.mplot3d import Axes3D\n",
    "\n",
    "# Open the ROOT files\n",
    "events = uproot.open(\"/data/atlas/data/allCellTruthv1/pi0/user.mswiatlo.27153451.OutputStream._000017.root\" + \":EventTree\")\n",
    "cell_geo_tree = uproot.open(\"/data/atlas/data/rho_delta/rho_small.root\" + \":CellGeo\")\n",
    "\n",
    "# Find the first event with 8 or more truth particles\n",
    "min_parts = 5\n",
    "n_truth_part = events[\"nTruthPart\"].array()\n",
    "first_index = ak.firsts(ak.where(n_truth_part >= min_parts))\n",
    "if not ak.is_valid(first_index):\n",
    "    raise ValueError(f\"No event with {min_parts} or more truth particles was found.\")\n",
    "print(f\"Event {first_index} has {n_truth_part[first_index]} truth particles.\")\n",
    "\n",
    "# Load data for the specific event\n",
    "event_data = events.arrays(entry_start=first_index[0], entry_stop=first_index[0] + 1, library=\"np\")\n",
    "cell_geo_data = cell_geo_tree.arrays(library='np')\n",
    "\n",
    "# Convert eta, phi to cartesian coordinates\n",
    "def eta_phi_to_xyz(eta, phi, rPerp):\n",
    "    theta = 2 * np.arctan(np.exp(-eta))\n",
    "    return rPerp * np.cos(phi), rPerp * np.sin(phi), rPerp / np.tan(theta)\n",
    "\n",
    "eta, phi, rPerp = cell_geo_data[\"cell_geo_eta\"][0], cell_geo_data[\"cell_geo_phi\"][0], cell_geo_data[\"cell_geo_rPerp\"][0]\n",
    "x, y, z = eta_phi_to_xyz(eta, phi, rPerp)\n",
    "\n",
    "# Create a 3D plot\n",
    "fig = plt.figure()\n",
    "ax = fig.add_subplot(111, projection='3d')\n",
    "ax.scatter(x, y, z, color='b')\n",
    "ax.view_init(elev=45, azim=15, roll=90)\n",
    "ax.set_box_aspect([1,1,2])\n",
    "ax.set_xlabel('X Label')\n",
    "ax.set_ylabel('Y Label')\n",
    "ax.set_zlabel('Z Label')\n",
    "plt.show()\n"
   ]
  }
 ],
 "metadata": {
  "kernelspec": {
   "display_name": "Python 3 (ipykernel)",
   "language": "python",
   "name": "python3"
  },
  "language_info": {
   "codemirror_mode": {
    "name": "ipython",
    "version": 3
   },
   "file_extension": ".py",
   "mimetype": "text/x-python",
   "name": "python",
   "nbconvert_exporter": "python",
   "pygments_lexer": "ipython3",
   "version": "3.10.12"
  }
 },
 "nbformat": 4,
 "nbformat_minor": 2
}
