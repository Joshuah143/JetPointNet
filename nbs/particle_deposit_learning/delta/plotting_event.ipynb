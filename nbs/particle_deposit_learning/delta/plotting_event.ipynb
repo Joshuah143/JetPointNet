{
 "cells": [
  {
   "cell_type": "code",
   "execution_count": 1,
   "metadata": {},
   "outputs": [
    {
     "name": "stdout",
     "output_type": "stream",
     "text": [
      "Event [161730] has [8] truth particles.\n"
     ]
    },
    {
     "ename": "TypeError",
     "evalue": "int() argument must be a string, a bytes-like object or a real number, not 'Array'",
     "output_type": "error",
     "traceback": [
      "\u001b[0;31m---------------------------------------------------------------------------\u001b[0m",
      "\u001b[0;31mTypeError\u001b[0m                                 Traceback (most recent call last)",
      "Cell \u001b[0;32mIn[1], line 28\u001b[0m\n\u001b[1;32m     25\u001b[0m \u001b[38;5;28mprint\u001b[39m(\u001b[38;5;124mf\u001b[39m\u001b[38;5;124m\"\u001b[39m\u001b[38;5;124mEvent \u001b[39m\u001b[38;5;132;01m{\u001b[39;00mfirst_index\u001b[38;5;132;01m}\u001b[39;00m\u001b[38;5;124m has \u001b[39m\u001b[38;5;132;01m{\u001b[39;00mn_truth_part[first_index]\u001b[38;5;132;01m}\u001b[39;00m\u001b[38;5;124m truth particles.\u001b[39m\u001b[38;5;124m\"\u001b[39m)\n\u001b[1;32m     27\u001b[0m \u001b[38;5;66;03m# Load data for the specific event\u001b[39;00m\n\u001b[0;32m---> 28\u001b[0m event_data \u001b[38;5;241m=\u001b[39m \u001b[43mevents\u001b[49m\u001b[38;5;241;43m.\u001b[39;49m\u001b[43marrays\u001b[49m\u001b[43m(\u001b[49m\u001b[43mentry_start\u001b[49m\u001b[38;5;241;43m=\u001b[39;49m\u001b[43mfirst_index\u001b[49m\u001b[43m,\u001b[49m\u001b[43m \u001b[49m\u001b[43mentry_stop\u001b[49m\u001b[38;5;241;43m=\u001b[39;49m\u001b[43mfirst_index\u001b[49m\u001b[43m \u001b[49m\u001b[38;5;241;43m+\u001b[39;49m\u001b[43m \u001b[49m\u001b[38;5;241;43m1\u001b[39;49m\u001b[43m,\u001b[49m\u001b[43m \u001b[49m\u001b[43mlibrary\u001b[49m\u001b[38;5;241;43m=\u001b[39;49m\u001b[38;5;124;43m\"\u001b[39;49m\u001b[38;5;124;43mnp\u001b[39;49m\u001b[38;5;124;43m\"\u001b[39;49m\u001b[43m)\u001b[49m\n\u001b[1;32m     29\u001b[0m cell_geo_data \u001b[38;5;241m=\u001b[39m cell_geo_tree\u001b[38;5;241m.\u001b[39marrays(library\u001b[38;5;241m=\u001b[39m\u001b[38;5;124m'\u001b[39m\u001b[38;5;124mnp\u001b[39m\u001b[38;5;124m'\u001b[39m)\n\u001b[1;32m     31\u001b[0m \u001b[38;5;66;03m# Function to convert eta, phi to x, y, z coordinates\u001b[39;00m\n",
      "File \u001b[0;32m/usr/local/lib/python3.10/dist-packages/uproot/behaviors/TBranch.py:783\u001b[0m, in \u001b[0;36mHasBranches.arrays\u001b[0;34m(self, expressions, cut, filter_name, filter_typename, filter_branch, aliases, language, entry_start, entry_stop, decompression_executor, interpretation_executor, array_cache, library, ak_add_doc, how)\u001b[0m\n\u001b[1;32m    765\u001b[0m     filter_branch \u001b[38;5;241m=\u001b[39m uproot\u001b[38;5;241m.\u001b[39m_util\u001b[38;5;241m.\u001b[39mregularize_filter(filter_branch)\n\u001b[1;32m    766\u001b[0m     \u001b[38;5;28;01mreturn\u001b[39;00m \u001b[38;5;28mself\u001b[39m\u001b[38;5;241m.\u001b[39mparent\u001b[38;5;241m.\u001b[39marrays(\n\u001b[1;32m    767\u001b[0m         expressions\u001b[38;5;241m=\u001b[39mexpressions,\n\u001b[1;32m    768\u001b[0m         cut\u001b[38;5;241m=\u001b[39mcut,\n\u001b[0;32m   (...)\u001b[0m\n\u001b[1;32m    780\u001b[0m         how\u001b[38;5;241m=\u001b[39mhow,\n\u001b[1;32m    781\u001b[0m     )\n\u001b[0;32m--> 783\u001b[0m entry_start, entry_stop \u001b[38;5;241m=\u001b[39m \u001b[43m_regularize_entries_start_stop\u001b[49m\u001b[43m(\u001b[49m\n\u001b[1;32m    784\u001b[0m \u001b[43m    \u001b[49m\u001b[38;5;28;43mself\u001b[39;49m\u001b[38;5;241;43m.\u001b[39;49m\u001b[43mtree\u001b[49m\u001b[38;5;241;43m.\u001b[39;49m\u001b[43mnum_entries\u001b[49m\u001b[43m,\u001b[49m\u001b[43m \u001b[49m\u001b[43mentry_start\u001b[49m\u001b[43m,\u001b[49m\u001b[43m \u001b[49m\u001b[43mentry_stop\u001b[49m\n\u001b[1;32m    785\u001b[0m \u001b[43m\u001b[49m\u001b[43m)\u001b[49m\n\u001b[1;32m    786\u001b[0m decompression_executor, interpretation_executor \u001b[38;5;241m=\u001b[39m _regularize_executors(\n\u001b[1;32m    787\u001b[0m     decompression_executor, interpretation_executor, \u001b[38;5;28mself\u001b[39m\u001b[38;5;241m.\u001b[39m_file\n\u001b[1;32m    788\u001b[0m )\n\u001b[1;32m    789\u001b[0m array_cache \u001b[38;5;241m=\u001b[39m _regularize_array_cache(array_cache, \u001b[38;5;28mself\u001b[39m\u001b[38;5;241m.\u001b[39m_file)\n",
      "File \u001b[0;32m/usr/local/lib/python3.10/dist-packages/uproot/behaviors/TBranch.py:2643\u001b[0m, in \u001b[0;36m_regularize_entries_start_stop\u001b[0;34m(num_entries, entry_start, entry_stop)\u001b[0m\n\u001b[1;32m   2640\u001b[0m \u001b[38;5;28;01mif\u001b[39;00m entry_stop \u001b[38;5;241m<\u001b[39m entry_start:\n\u001b[1;32m   2641\u001b[0m     entry_stop \u001b[38;5;241m=\u001b[39m entry_start\n\u001b[0;32m-> 2643\u001b[0m \u001b[38;5;28;01mreturn\u001b[39;00m \u001b[38;5;28;43mint\u001b[39;49m\u001b[43m(\u001b[49m\u001b[43mentry_start\u001b[49m\u001b[43m)\u001b[49m, \u001b[38;5;28mint\u001b[39m(entry_stop)\n",
      "\u001b[0;31mTypeError\u001b[0m: int() argument must be a string, a bytes-like object or a real number, not 'Array'"
     ]
    }
   ],
   "source": [
    "import uproot\n",
    "import awkward as ak\n",
    "import numpy as np\n",
    "import matplotlib.pyplot as plt\n",
    "from mpl_toolkits.mplot3d import Axes3D\n",
    "\n",
    "# Define file locations\n",
    "FILE_LOC = \"/fast_scratch_1/jbohm/cell_particle_deposit_learning/delta/delta_root_files/delta_full.root\"\n",
    "CELL_GEO_FILE_LOC = \"/data/atlas/data/rho_delta/rho_small.root\"\n",
    "\n",
    "# Open the ROOT files\n",
    "events = uproot.open(FILE_LOC + \":EventTree\")\n",
    "cell_geo_tree = uproot.open(CELL_GEO_FILE_LOC + \":CellGeo\")\n",
    "\n",
    "# Load the number of truth particles per event\n",
    "n_truth_part = events[\"nTruthPart\"].array()\n",
    "\n",
    "# Find the first event with 8 or more truth particles\n",
    "num_particles = 8\n",
    "first_index = ak.firsts(ak.where(n_truth_part >= num_particles))\n",
    "\n",
    "if not ak.is_valid(first_index):\n",
    "    print(f\"No event with {num_particles} or more truth particles was found.\")\n",
    "else:\n",
    "    print(f\"Event {first_index} has {n_truth_part[first_index]} truth particles.\")\n",
    "\n",
    "    # Load data for the specific event\n",
    "    event_data = events.arrays(entry_start=first_index[0], entry_stop=first_index[0] + 1, library=\"np\")\n",
    "    cell_geo_data = cell_geo_tree.arrays(library='np')\n",
    "\n",
    "    # Function to convert eta, phi to x, y, z coordinates\n",
    "    def eta_phi_to_xyz(eta, phi, rPerp):\n",
    "        theta = 2 * np.arctan(np.exp(-eta))\n",
    "        x = rPerp * np.cos(phi)\n",
    "        y = rPerp * np.sin(phi)\n",
    "        z = rPerp / np.tan(theta)\n",
    "        return x, y, z\n",
    "\n",
    "    # Extract eta, phi, rPerp values\n",
    "    eta = cell_geo_data[\"cell_geo_eta\"][0]\n",
    "    phi = cell_geo_data[\"cell_geo_phi\"][0]\n",
    "    rPerp = cell_geo_data[\"cell_geo_rPerp\"][0]\n",
    "\n",
    "    # Convert eta, phi to cartesian coordinates (x, y, z)\n",
    "    x, y, z = eta_phi_to_xyz(eta, phi, rPerp)\n",
    "\n",
    "    # Create a 3D plot\n",
    "    fig = plt.figure()\n",
    "    ax = fig.add_subplot(111, projection='3d')\n",
    "\n",
    "    # Scatter plot using x, y, z coordinates and a single color for all points\n",
    "    scatter = ax.scatter(x, y, z, color='b')\n",
    "\n",
    "    # Set labels\n",
    "    ax.set_xlabel('X Label')\n",
    "    ax.set_ylabel('Y Label')\n",
    "    ax.set_zlabel('Z Label')\n",
    "\n",
    "    # Show the plot\n",
    "    plt.show()\n"
   ]
  }
 ],
 "metadata": {
  "kernelspec": {
   "display_name": "Python 3 (ipykernel)",
   "language": "python",
   "name": "python3"
  },
  "language_info": {
   "codemirror_mode": {
    "name": "ipython",
    "version": 3
   },
   "file_extension": ".py",
   "mimetype": "text/x-python",
   "name": "python",
   "nbconvert_exporter": "python",
   "pygments_lexer": "ipython3",
   "version": "3.10.12"
  }
 },
 "nbformat": 4,
 "nbformat_minor": 2
}
