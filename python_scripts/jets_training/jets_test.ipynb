{
 "cells": [
  {
   "cell_type": "code",
   "execution_count": 1,
   "metadata": {},
   "outputs": [
    {
     "name": "stderr",
     "output_type": "stream",
     "text": [
      "2024-04-05 12:09:37.947126: E tensorflow/compiler/xla/stream_executor/cuda/cuda_dnn.cc:9360] Unable to register cuDNN factory: Attempting to register factory for plugin cuDNN when one has already been registered\n",
      "2024-04-05 12:09:37.953099: E tensorflow/compiler/xla/stream_executor/cuda/cuda_fft.cc:609] Unable to register cuFFT factory: Attempting to register factory for plugin cuFFT when one has already been registered\n",
      "2024-04-05 12:09:37.968794: E tensorflow/compiler/xla/stream_executor/cuda/cuda_blas.cc:1537] Unable to register cuBLAS factory: Attempting to register factory for plugin cuBLAS when one has already been registered\n",
      "2024-04-05 12:09:39.381073: I tensorflow/core/platform/cpu_feature_guard.cc:183] This TensorFlow binary is optimized to use available CPU instructions in performance-critical operations.\n",
      "To enable the following instructions: SSE3 SSE4.1 SSE4.2 AVX, in other operations, rebuild TensorFlow with the appropriate compiler flags.\n",
      "2024-04-05 12:09:52.123904: E tensorflow/compiler/xla/stream_executor/cuda/cuda_driver.cc:268] failed call to cuInit: CUDA_ERROR_NO_DEVICE: no CUDA-capable device is detected\n",
      "2024-04-05 12:09:52.124151: I tensorflow/compiler/xla/stream_executor/cuda/cuda_diagnostics.cc:168] retrieving CUDA diagnostic information for host: triumf-ml1\n",
      "2024-04-05 12:09:52.126229: I tensorflow/compiler/xla/stream_executor/cuda/cuda_diagnostics.cc:175] hostname: triumf-ml1\n",
      "2024-04-05 12:09:52.127299: I tensorflow/compiler/xla/stream_executor/cuda/cuda_diagnostics.cc:199] libcuda reported version is: 545.23.8\n",
      "2024-04-05 12:09:52.127461: I tensorflow/compiler/xla/stream_executor/cuda/cuda_diagnostics.cc:203] kernel reported version is: NOT_FOUND: could not find kernel module information in driver version file contents: \"NVRM version: NVIDIA UNIX Open Kernel Module for x86_64  545.23.08  Release Build  (dvs-builder@U16-I3-A16-1-1)  Mon Nov  6 23:37:57 UTC 2023\n",
      "GCC version:  gcc version 11.4.0 (Ubuntu 11.4.0-1ubuntu1~22.04) \n",
      "\"\n"
     ]
    }
   ],
   "source": [
    "import numpy as np\n",
    "import glob\n",
    "import os\n",
    "from models.JetPointNet import PointNetSegmentation\n",
    "from jets_train import load_data_from_npz\n",
    "\n",
    "# Setup\n",
    "os.environ['CUDA_VISIBLE_DEVICES'] = \"\"  # Disable GPU\n",
    "model_path = \"saved_model/PointNetModel.keras\"\n",
    "# Change TEST_DIR based on the task\n",
    "# For classification\n",
    "# TEST_DIR = '/path/to/classification/test_data'\n",
    "# For energy prediction\n",
    "TEST_DIR = '/data/mjovanovic/jets/processed_files/2000_events_w_fixed_hits/SavedNpz/test'\n",
    "\n",
    "task = \"classification\"  # Use \"classification\" for the first task, \"energy\" for the second\n",
    "\n",
    "model = PointNetSegmentation(num_points=859, num_classes=1)\n",
    "model.load_weights(model_path)\n",
    "\n",
    "npz_files = glob.glob(os.path.join(TEST_DIR, '*.npz'))\n",
    "\n"
   ]
  },
  {
   "cell_type": "code",
   "execution_count": 2,
   "metadata": {},
   "outputs": [
    {
     "name": "stdout",
     "output_type": "stream",
     "text": [
      "13/13 [==============================] - 4s 273ms/step\n",
      "15/15 [==============================] - 4s 272ms/step\n",
      "13/13 [==============================] - 3s 265ms/step\n",
      "12/12 [==============================] - 3s 268ms/step\n",
      "14/14 [==============================] - 4s 253ms/step\n",
      "15/15 [==============================] - 4s 269ms/step\n",
      "12/12 [==============================] - 3s 270ms/step\n",
      "13/13 [==============================] - 3s 260ms/step\n",
      "Average Misclassification Energy Ratio: 0.8079\n"
     ]
    }
   ],
   "source": [
    "metrics = []\n",
    "for npz_file in npz_files:\n",
    "    feats, frac_labels, tot_labels, tot_truth_e = load_data_from_npz(npz_file)\n",
    "\n",
    "    # for regression\n",
    "    labels = tot_labels\n",
    "\n",
    "    # for classification\n",
    "    labels = frac_labels\n",
    "    \n",
    "    predicted_labels = np.squeeze(model.predict(feats), axis=-1)\n",
    "    \n",
    "    for sample_index in range(len(feats)):\n",
    "        current_labels = labels[sample_index]\n",
    "        current_predicted_labels = predicted_labels[sample_index]\n",
    "        current_energies = feats[sample_index][:, 4]  # Energy is at index 4\n",
    "\n",
    "        valid_indices = np.where(current_labels != -1)\n",
    "        \n",
    "\n",
    "        if task == \"classification\":\n",
    "            # Your original classification logic here\n",
    "            absolute_errors = np.abs(current_predicted_labels[valid_indices] - current_labels[valid_indices])\n",
    "            misclassified_energy = np.sum(absolute_errors * current_energies[valid_indices])\n",
    "            total_energy = np.sum(current_energies[valid_indices])\n",
    "            metric = misclassified_energy / total_energy if total_energy else 0\n",
    "        elif task == \"energy\":\n",
    "            # New logic for energy prediction\n",
    "            absolute_errors = np.abs(current_predicted_labels[valid_indices] - current_labels[valid_indices])\n",
    "            print(max(absolute_errors))\n",
    "            # Mean Absolute Error for energy predictions\n",
    "            mae = np.mean(absolute_errors)\n",
    "            metric = mae\n",
    "\n",
    "        \n",
    "        metrics.append(metric)\n",
    "\n",
    "average_metric = np.mean(metrics)\n",
    "if task == \"classification\":\n",
    "    print(f\"Average Misclassification Energy Ratio: {1 - average_metric:.4f}\")\n",
    "elif task == \"energy\":\n",
    "    print(f\"Mean Properly Classified Energy (Energy Prediction): {1 - average_metric:.4f}\")"
   ]
  }
 ],
 "metadata": {
  "kernelspec": {
   "display_name": "Python 3 (ipykernel)",
   "language": "python",
   "name": "python3"
  },
  "language_info": {
   "codemirror_mode": {
    "name": "ipython",
    "version": 3
   },
   "file_extension": ".py",
   "mimetype": "text/x-python",
   "name": "python",
   "nbconvert_exporter": "python",
   "pygments_lexer": "ipython3",
   "version": "3.10.12"
  }
 },
 "nbformat": 4,
 "nbformat_minor": 2
}
