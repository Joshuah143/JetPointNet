{
 "cells": [
  {
   "cell_type": "code",
   "execution_count": 1,
   "metadata": {},
   "outputs": [
    {
     "name": "stderr",
     "output_type": "stream",
     "text": [
      "2024-04-23 09:33:06.807081: E tensorflow/compiler/xla/stream_executor/cuda/cuda_dnn.cc:9360] Unable to register cuDNN factory: Attempting to register factory for plugin cuDNN when one has already been registered\n",
      "2024-04-23 09:33:06.809875: E tensorflow/compiler/xla/stream_executor/cuda/cuda_fft.cc:609] Unable to register cuFFT factory: Attempting to register factory for plugin cuFFT when one has already been registered\n",
      "2024-04-23 09:33:06.820114: E tensorflow/compiler/xla/stream_executor/cuda/cuda_blas.cc:1537] Unable to register cuBLAS factory: Attempting to register factory for plugin cuBLAS when one has already been registered\n",
      "2024-04-23 09:33:08.058078: I tensorflow/core/platform/cpu_feature_guard.cc:183] This TensorFlow binary is optimized to use available CPU instructions in performance-critical operations.\n",
      "To enable the following instructions: SSE3 SSE4.1 SSE4.2 AVX, in other operations, rebuild TensorFlow with the appropriate compiler flags.\n",
      "2024-04-23 09:33:19.645199: E tensorflow/compiler/xla/stream_executor/cuda/cuda_driver.cc:268] failed call to cuInit: CUDA_ERROR_NO_DEVICE: no CUDA-capable device is detected\n",
      "2024-04-23 09:33:19.645440: I tensorflow/compiler/xla/stream_executor/cuda/cuda_diagnostics.cc:168] retrieving CUDA diagnostic information for host: triumf-ml1\n",
      "2024-04-23 09:33:19.647241: I tensorflow/compiler/xla/stream_executor/cuda/cuda_diagnostics.cc:175] hostname: triumf-ml1\n",
      "2024-04-23 09:33:19.648147: I tensorflow/compiler/xla/stream_executor/cuda/cuda_diagnostics.cc:199] libcuda reported version is: 545.23.8\n",
      "2024-04-23 09:33:19.648314: I tensorflow/compiler/xla/stream_executor/cuda/cuda_diagnostics.cc:203] kernel reported version is: NOT_FOUND: could not find kernel module information in driver version file contents: \"NVRM version: NVIDIA UNIX Open Kernel Module for x86_64  545.23.08  Release Build  (dvs-builder@U16-I3-A16-1-1)  Mon Nov  6 23:37:57 UTC 2023\n",
      "GCC version:  gcc version 11.4.0 (Ubuntu 11.4.0-1ubuntu1~22.04) \n",
      "\"\n"
     ]
    }
   ],
   "source": [
    "import numpy as np\n",
    "import glob\n",
    "import os\n",
    "from models.JetPointNet import PointNetSegmentation\n",
    "\n",
    "\n",
    "def load_data_from_npz(npz_file):\n",
    "    data = np.load(npz_file)\n",
    "    feats = data['feats']  # Shape: (num_samples, 859, 6)\n",
    "    frac_labels = data['frac_labels']  # Shape: (num_samples, 859)\n",
    "    tot_labels = data['tot_labels']  # Shape: (num_samples, 859)\n",
    "    tot_truth_e = data['tot_truth_e']  # Shape: (num_samples, 859) (This is the true total energy deposited by particles into this cell)\n",
    "    return feats, frac_labels, tot_labels, tot_truth_e\n",
    "\n",
    "# Setup\n",
    "os.environ['CUDA_VISIBLE_DEVICES'] = \"\"  # Disable GPU\n",
    "model_path = \"saved_model/PointNetModel.keras\"\n",
    "\n",
    "TEST_DIR = '/data/mjovanovic/jets/processed_files/2000_events_w_fixed_hits/SavedNpz/test'\n",
    "\n",
    "model = PointNetSegmentation(num_points=859, num_classes=1)\n",
    "model.load_weights(model_path)\n",
    "\n",
    "npz_files = glob.glob(os.path.join(TEST_DIR, '*.npz'))\n",
    "\n"
   ]
  },
  {
   "cell_type": "code",
   "execution_count": 3,
   "metadata": {},
   "outputs": [
    {
     "name": "stdout",
     "output_type": "stream",
     "text": [
      "13/13 [==============================] - 40s 3s/step\n"
     ]
    },
    {
     "ename": "IndexError",
     "evalue": "boolean index did not match indexed array along dimension 0; dimension is 404 but corresponding boolean dimension is 859",
     "output_type": "error",
     "traceback": [
      "\u001b[0;31m---------------------------------------------------------------------------\u001b[0m",
      "\u001b[0;31mIndexError\u001b[0m                                Traceback (most recent call last)",
      "Cell \u001b[0;32mIn[3], line 56\u001b[0m\n\u001b[1;32m     53\u001b[0m coords \u001b[38;5;241m=\u001b[39m feats[sample_idx][valid_indices, :\u001b[38;5;241m3\u001b[39m]\n\u001b[1;32m     54\u001b[0m types_for_plotting \u001b[38;5;241m=\u001b[39m types[valid_indices]\n\u001b[0;32m---> 56\u001b[0m \u001b[38;5;28mprint\u001b[39m(\u001b[43msegmentation_logits\u001b[49m\u001b[43m[\u001b[49m\u001b[43mvalid_indices\u001b[49m\u001b[43m]\u001b[49m)\n\u001b[1;32m     57\u001b[0m predicted_classes \u001b[38;5;241m=\u001b[39m np\u001b[38;5;241m.\u001b[39mwhere(segmentation_logits[sample_idx] \u001b[38;5;241m>\u001b[39m \u001b[38;5;241m0\u001b[39m, \u001b[38;5;241m1\u001b[39m, \u001b[38;5;241m0\u001b[39m)\n\u001b[1;32m     58\u001b[0m true_classes \u001b[38;5;241m=\u001b[39m np\u001b[38;5;241m.\u001b[39mwhere(frac_labels[sample_idx] \u001b[38;5;241m>\u001b[39m \u001b[38;5;241m0.5\u001b[39m, \u001b[38;5;241m1\u001b[39m, \u001b[38;5;241m0\u001b[39m)\n",
      "\u001b[0;31mIndexError\u001b[0m: boolean index did not match indexed array along dimension 0; dimension is 404 but corresponding boolean dimension is 859"
     ]
    }
   ],
   "source": [
    "import matplotlib.pyplot as plt\n",
    "from mpl_toolkits.mplot3d import Axes3D\n",
    "import numpy as np\n",
    "\n",
    "def plot_energies(predicted_energies, true_energies, coords, types, sample_index):\n",
    "    fig = plt.figure(figsize=(14, 7))\n",
    "    ax1 = fig.add_subplot(121, projection='3d')\n",
    "    ax2 = fig.add_subplot(122, projection='3d')\n",
    "\n",
    "    ax1.set_title('Predicted Classifications')\n",
    "    ax1.set_xlabel('X')\n",
    "    ax1.set_ylabel('Y')\n",
    "    ax1.set_zlabel('Z')\n",
    "    ax2.set_title('Actual Classifications')\n",
    "    ax2.set_xlabel('X')\n",
    "    ax2.set_ylabel('Y')\n",
    "    ax2.set_zlabel('Z')\n",
    "\n",
    "    vmax = 1  # Fixed as we now use binary classification\n",
    "\n",
    "    sm = plt.cm.ScalarMappable(cmap='viridis', norm=plt.Normalize(vmin=0, vmax=vmax))\n",
    "    sm.set_array([])\n",
    "\n",
    "    for i, t in enumerate(types):\n",
    "        if t == -1:\n",
    "            continue\n",
    "\n",
    "        color = 'r' if predicted_energies[i] > 0.5 else 'b'\n",
    "        marker = 'x' if true_energies[i] > 0.5 else 'o'\n",
    "        \n",
    "        ax1.scatter(coords[i, 0], coords[i, 1], coords[i, 2], color=color, marker=marker)\n",
    "        ax2.scatter(coords[i, 0], coords[i, 1], coords[i, 2], color=color, marker=marker)\n",
    "\n",
    "    plt.suptitle(f'Sample {sample_index}')\n",
    "    cbar = fig.colorbar(sm, ax=[ax1, ax2], shrink=0.5, aspect=20)\n",
    "    cbar.set_label('Classification (0 or 1)')\n",
    "\n",
    "    plt.show()\n",
    "\n",
    "# Process each file\n",
    "for npz_file_idx, npz_file in enumerate(npz_files):\n",
    "    if npz_file_idx > 1:  # Only process the first two files for demonstration\n",
    "        break\n",
    "\n",
    "    feats, frac_labels, tot_labels, tot_truth_e = load_data_from_npz(npz_file)\n",
    "    segmentation_logits, energies = model.predict(feats)\n",
    "    segmentation_logits = np.squeeze(segmentation_logits, axis=-1)\n",
    "\n",
    "    for sample_idx in range(min(10, len(feats))):\n",
    "        types = feats[sample_idx][:, -1]\n",
    "        valid_indices = types != -1  # Exclude -1 types for plotting\n",
    "\n",
    "        coords = feats[sample_idx][valid_indices, :3]\n",
    "        types_for_plotting = types[valid_indices]\n",
    "\n",
    "        print(segmentation_logits[sample_idx][valid_indices])\n",
    "        predicted_classes = np.where(segmentation_logits[sample_idx] > 0, 1, 0)\n",
    "        true_classes = np.where(frac_labels[sample_idx] > 0.5, 1, 0)\n",
    "\n",
    "        predicted_energies_eval = predicted_classes * (types == 0)\n",
    "        true_energies_eval = true_classes * (types == 0)\n",
    "\n",
    "        tot_predicted = np.sum(predicted_energies_eval)\n",
    "        tot_true = np.sum(true_energies_eval)\n",
    "\n",
    "        print(\"Predicted Count: \", tot_predicted)\n",
    "        print(\"True Count: \", tot_true)\n",
    "        print(\"Percentage Difference: \", 100 * np.abs(tot_predicted - tot_true) / max(tot_true, 1), \"% \")\n",
    "\n",
    "        # Plot with adjusted classes\n",
    "        #plot_energies(predicted_classes[valid_indices], true_classes[valid_indices], coords, types_for_plotting, sample_idx)\n"
   ]
  }
 ],
 "metadata": {
  "kernelspec": {
   "display_name": "Python 3 (ipykernel)",
   "language": "python",
   "name": "python3"
  },
  "language_info": {
   "codemirror_mode": {
    "name": "ipython",
    "version": 3
   },
   "file_extension": ".py",
   "mimetype": "text/x-python",
   "name": "python",
   "nbconvert_exporter": "python",
   "pygments_lexer": "ipython3",
   "version": "3.10.12"
  }
 },
 "nbformat": 4,
 "nbformat_minor": 2
}
