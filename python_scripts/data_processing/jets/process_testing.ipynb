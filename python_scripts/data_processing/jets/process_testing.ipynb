{
 "cells": [
  {
   "cell_type": "markdown",
   "metadata": {},
   "source": [
    "## Test for equal numbers of files between test, train, and val sets at awk and npz levels"
   ]
  },
  {
   "cell_type": "code",
   "execution_count": 3,
   "metadata": {},
   "outputs": [],
   "source": [
    "prefix_match = {\n",
    "    \"JZ0\": 'user.mswiatlo.39955613',\n",
    "    \"JZ1\": 'user.mswiatlo.39955646',\n",
    "    \"JZ2\": 'user.mswiatlo.39955678',\n",
    "    \"JZ3\": 'user.mswiatlo.39955704',\n",
    "    \"JZ4\": 'user.mswiatlo.39955735',\n",
    "    \"JZ5\": 'user.mswiatlo.39955768',\n",
    "    \"JZ6\": 'user.mswiatlo.39955825',\n",
    "}\n",
    "\n",
    "prefix_to_set = {j:i for i,j in prefix_match.items()}\n"
   ]
  },
  {
   "cell_type": "code",
   "execution_count": 53,
   "metadata": {},
   "outputs": [
    {
     "name": "stdout",
     "output_type": "stream",
     "text": [
      "JZ4 contains 179 files with 500 events\n",
      "JZ5 contains 154 files with 500 events\n",
      "JZ3 contains 427 files with 500 events\n",
      "JZ1 contains 981 files with 500 events\n",
      "JZ2 contains 954 files with 500 events\n",
      "JZ6 contains 150 files with 500 events\n",
      "JZ0 contains 990 files with 500 events\n",
      "FOUND 3835 root files containing  1,917,500 events\n",
      "---------------------------\n",
      "AWK train contains 1124 files\n",
      "AWK val   contains 1124 files\n",
      "AWK test  contains 1124 files\n",
      "AWK total contains 3372 files\n",
      "---------------------------\n",
      "NPZ train contains 934 files\n",
      "NPZ val   contains 426 files\n",
      "NPZ test  contains 0 files\n",
      "NPZ total contains 1360 files\n",
      "---------------------------\n",
      "ROOT to AWK is 29.3% complete\n",
      "AWK  to NPZ is 83.1% complete\n",
      "---------------------------\n"
     ]
    }
   ],
   "source": [
    "import os\n",
    "from preprocessing_header import AWK_SAVE_LOC, NPZ_SAVE_LOC, FILES_DIR, MAX_SAMPLE_LENGTH, INCLUDE_SETS_TO_NPZ\n",
    "import re\n",
    "\n",
    "# Specify the directory path\n",
    "dirs_names = ['train', 'val', 'test']\n",
    "\n",
    "root_dir_lens = {}\n",
    "for dir in os.listdir(FILES_DIR):\n",
    "    entries = os.listdir(FILES_DIR + dir)\n",
    "    number_of_files = sum(os.path.isfile(os.path.join(FILES_DIR + dir, entry)) for entry in entries)\n",
    "    dir_short_name = re.search(r'JZ[0-9]|JZ10', dir).group()\n",
    "    root_dir_lens[dir_short_name] = number_of_files\n",
    "    print(f'{dir_short_name} contains {number_of_files} files with 500 events')\n",
    "\n",
    "root_files = sum(root_dir_lens.values())\n",
    "print(f\"FOUND {root_files} root files containing {root_files * 500:10,} events\")\n",
    "\n",
    "print(\"-\" * 27)\n",
    "\n",
    "# Get a list of all entries in the directory\n",
    "awk_file_numbers = []\n",
    "for dir in dirs_names:\n",
    "    directory_path = AWK_SAVE_LOC / dir\n",
    "    entries = os.listdir(directory_path)\n",
    "    number_of_files = sum(os.path.isfile(os.path.join(directory_path, entry)) for entry in entries)\n",
    "    awk_file_numbers.append(number_of_files)\n",
    "    print(f\"AWK {dir:<5} contains {number_of_files} files\")\n",
    "print(f\"AWK {'total':<5} contains {sum(awk_file_numbers)} files\")\n",
    "\n",
    "print(\"-\" * 27)\n",
    "\n",
    "npz_file_numbers = []\n",
    "for dir in dirs_names:\n",
    "    directory_path = NPZ_SAVE_LOC / dir\n",
    "    entries = os.listdir(directory_path)\n",
    "    number_of_files = sum(os.path.isfile(os.path.join(directory_path, entry)) for entry in entries)\n",
    "    npz_file_numbers.append(number_of_files)\n",
    "    print(f\"NPZ {dir:<5} contains {number_of_files} files\")\n",
    "print(f\"NPZ {'total':<5} contains {sum(npz_file_numbers)} files\")\n",
    "\n",
    "print(\"-\" * 27)\n",
    "\n",
    "\n",
    "print(f'ROOT to AWK is {100 * awk_file_numbers[0]/root_files:4.1f}% complete')\n",
    "print(f'AWK  to NPZ is {100 * npz_file_numbers[0]/awk_file_numbers[0]:4.1f}% complete')\n",
    "\n",
    "print(\"-\" * 27)"
   ]
  },
  {
   "cell_type": "markdown",
   "metadata": {},
   "source": [
    "## Get file sizes of the root, awk, and npz files"
   ]
  },
  {
   "cell_type": "code",
   "execution_count": 39,
   "metadata": {},
   "outputs": [
    {
     "name": "stdout",
     "output_type": "stream",
     "text": [
      "ROOT      is  160GB large\n",
      "-------------------------\n",
      "AWK train is   48GB large\n",
      "AWK val   is   26GB large\n",
      "AWK test  is   13GB large\n",
      "NPZ total is   87GB large\n",
      "-------------------------\n",
      "NPZ train is  160GB large\n",
      "NPZ val   is    0GB large\n",
      "NPZ test  is    0GB large\n",
      "NPZ total is  160GB large\n",
      "-------------------------\n",
      "TOTAL     is  407GB large\n"
     ]
    }
   ],
   "source": [
    "import subprocess\n",
    "\n",
    "def get_directory_size(directory):\n",
    "    # Run the 'du' command to get the size of the directory\n",
    "    # The '-s' option gives the total size of the directory\n",
    "    # The '-k' option lists the size in kilobytes\n",
    "    result = subprocess.run(['du', '-sk', directory], capture_output=True, text=True)\n",
    "    # The output is in the format \"size directory_name\", we split on whitespace\n",
    "    return int(result.stdout.split()[0])\n",
    "    \n",
    "root_size = get_directory_size(FILES_DIR)\n",
    "print(f\"ROOT {'':<4} is {(root_size/1024/1024):4.0f}GB large\")\n",
    "\n",
    "print(\"-\" * 25)\n",
    "\n",
    "awk_file_sizes = []\n",
    "for dir in dirs_names:\n",
    "    directory_path = AWK_SAVE_LOC / dir\n",
    "    size = get_directory_size(directory_path)\n",
    "    awk_file_sizes.append(size)\n",
    "    print(f\"AWK {dir:<5} is {(size/1024/1024):4.0f}GB large\")\n",
    "print(f\"NPZ {'total':<5} is {(sum(awk_file_sizes)/1024/1024):4.0f}GB large\")\n",
    "\n",
    "print(\"-\" * 25)\n",
    "\n",
    "npz_file_sizes = []\n",
    "for dir in dirs_names:\n",
    "    directory_path = NPZ_SAVE_LOC / dir\n",
    "    size = get_directory_size(directory_path)\n",
    "    npz_file_sizes.append(size)\n",
    "    print(f\"NPZ {dir:<5} is {(size/1024/1024):4.0f}GB large\")\n",
    "print(f\"NPZ {'total':<5} is {(sum(npz_file_sizes)/1024/1024):4.0f}GB large\")\n",
    "\n",
    "print(\"-\" * 25)\n",
    "\n",
    "print(f\"TOTAL {'':<3} is {((root_size + sum(npz_file_sizes) + sum(awk_file_sizes))/1024/1024):4.0f}GB large\")"
   ]
  },
  {
   "cell_type": "markdown",
   "metadata": {},
   "source": [
    "## Find event sample lengths"
   ]
  },
  {
   "cell_type": "code",
   "execution_count": 6,
   "metadata": {},
   "outputs": [],
   "source": [
    "from pathlib import Path\n",
    "import json\n",
    "import re\n",
    "json_loc = Path(AWK_SAVE_LOC).parent / \"metadata\" / \"sample_length_calcs.json\"\n",
    "with open(json_loc, 'r') as f:\n",
    "    results = json.load(f)"
   ]
  },
  {
   "cell_type": "code",
   "execution_count": 7,
   "metadata": {},
   "outputs": [],
   "source": [
    "lengths_dict = {f\"JZ{i}\": [] for i in range(7)}\n",
    "\n",
    "for key, value in results.items():\n",
    "    for i in value:\n",
    "        lengths_dict[prefix_to_set[i[2][:len('user.mswiatlo.39955613')]]].append(i[0])"
   ]
  },
  {
   "cell_type": "code",
   "execution_count": null,
   "metadata": {},
   "outputs": [],
   "source": []
  },
  {
   "cell_type": "code",
   "execution_count": 18,
   "metadata": {},
   "outputs": [
    {
     "name": "stdout",
     "output_type": "stream",
     "text": [
      "JZ0 95th percentile: Excluded\n",
      "JZ1 95th percentile: Excluded\n",
      "JZ2 95th percentile: 633.0\n",
      "JZ3 95th percentile: Excluded\n",
      "JZ4 95th percentile: 949.2\n",
      "JZ5 95th percentile: 997.1\n",
      "JZ6 95th percentile: Excluded\n",
      "Max Sample Length is 1007\n",
      "Number of included files: 3346\n",
      "14 files EXLUDED from last sample length search\n"
     ]
    },
    {
     "data": {
      "image/png": "[encoded data removed]",
      "text/plain": [
       "<Figure size 640x480 with 1 Axes>"
      ]
     },
     "metadata": {},
     "output_type": "display_data"
    }
   ],
   "source": [
    "import matplotlib.pyplot as plt\n",
    "import numpy as np\n",
    "\n",
    "\n",
    "rates = lengths_dict.values()\n",
    "included_dict = {True: \"Included\",\n",
    "                 False: \"Excluded\"}\n",
    "labels = [f\"{i} - n={len(lengths_dict[i])} - {included_dict[i in INCLUDE_SETS_TO_NPZ]} \" for i in lengths_dict.keys()]\n",
    "#plt.hist(rates, label=labels, bins=50, histtype='step', stacked=True, fill=False)\n",
    "plt.hist(rates, label=labels, bins=50, histtype='step', fill=False, density=True)\n",
    "plt.grid(axis='y', linestyle='--', alpha=0.7)\n",
    "#plt.yscale('log')\n",
    "plt.title(\"Dense track complexity hist with $\\Delta R =0.2$\")\n",
    "plt.xlabel(\"Number of track points\")\n",
    "\n",
    "\n",
    "plt.axvline(x=MAX_SAMPLE_LENGTH, color='red', linestyle='--', linewidth=2, label=f'MAX SAMPLE LENGTH CUT - {MAX_SAMPLE_LENGTH}')\n",
    "plt.legend()\n",
    "\n",
    "for i in lengths_dict.keys():\n",
    "    print(f\"{i} 95th percentile: {np.percentile(lengths_dict[i], 95) if  len(lengths_dict[i]) != 0 else 'Excluded'}\")\n",
    "\n",
    "\n",
    "print(f\"Max Sample Length is {max([max(lengths_dict[f'JZ{i}']) for i in range(7) if len(lengths_dict[f'JZ{i}']) != 0])}\")\n",
    "print(f\"Number of included files: {sum([len(lengths_dict[f'JZ{i}']) for i in range(7)])}\")\n",
    "print(f\"{(sum(awk_file_numbers)-sum([len(lengths_dict[f'JZ{i}']) for i in range(7)]))} files EXLUDED from last sample length search\")"
   ]
  },
  {
   "cell_type": "code",
   "execution_count": null,
   "metadata": {},
   "outputs": [
    {
     "name": "stdout",
     "output_type": "stream",
     "text": [
      "True\n"
     ]
    }
   ],
   "source": [
    "import os\n",
    "\n",
    "# Directory to check\n",
    "directory = '/fast_scratch_1/atlas/pflow/20240614/user.mswiatlo.801167.Py8EG_A14NNPDF23LO_jj_JZ2.recon.ESD.e8514_e8528_s4185_s4114_r14977_2024.06.14.1_mltree.root'\n",
    "\n",
    "# Prefix to check for\n",
    "prefix = 'user.mswiatlo.39955678'\n",
    "\n",
    "def all_files_start_with_prefix(directory, prefix):\n",
    "    # Check if the path is a directory\n",
    "    if not os.path.isdir(directory):\n",
    "        return \"Error: The provided path is not a directory.\"\n",
    "\n",
    "    # List all files in the directory\n",
    "    try:\n",
    "        files = os.listdir(directory)\n",
    "    except FileNotFoundError:\n",
    "        return \"Error: Directory not found.\"\n",
    "    except PermissionError:\n",
    "        return \"Error: Permission denied.\"\n",
    "\n",
    "    # Check if each file starts with the prefix\n",
    "    for file in files:\n",
    "        if not file.startswith(prefix):\n",
    "            return False\n",
    "    return True\n",
    "\n",
    "# Use the function and print the result\n",
    "result = all_files_start_with_prefix(directory, prefix)\n",
    "print(result)"
   ]
  },
  {
   "cell_type": "code",
   "execution_count": null,
   "metadata": {},
   "outputs": [
    {
     "name": "stdout",
     "output_type": "stream",
     "text": [
      "Set JZ0 is   0.00% complete\n",
      "Set JZ1 is   0.00% complete\n",
      "Set JZ2 is  97.90% complete\n",
      "Set JZ3 is   0.00% complete\n",
      "Set JZ4 is 100.00% complete\n",
      "Set JZ5 is   1.52% complete\n",
      "Set JZ6 is   0.00% complete\n"
     ]
    }
   ],
   "source": [
    "for i in lengths_dict.keys():\n",
    "    print(f\"Set {i} is {100 * len(lengths_dict[i])/(3*root_dir_lens[i]):6.2f}% complete\")"
   ]
  }
 ],
 "metadata": {
  "kernelspec": {
   "display_name": "Python 3",
   "language": "python",
   "name": "python3"
  },
  "language_info": {
   "codemirror_mode": {
    "name": "ipython",
    "version": 3
   },
   "file_extension": ".py",
   "mimetype": "text/x-python",
   "name": "python",
   "nbconvert_exporter": "python",
   "pygments_lexer": "ipython3",
   "version": "3.10.12"
  }
 },
 "nbformat": 4,
 "nbformat_minor": 2
}
