{
 "cells": [
  {
   "cell_type": "code",
   "execution_count": 13,
   "metadata": {},
   "outputs": [],
   "source": [
    "import os\n",
    "import tensorflow as tf\n",
    "from tensorflow import keras\n",
    "from keras import layers\n",
    "import keras.backend as K\n",
    "import math\n",
    "import numpy as np\n",
    "import glob\n",
    "import csv\n",
    "import sys\n",
    "sys.path.append('/home/jbohm/start_tf/PointNet_Segmentation/python_scripts/')\n",
    "from pnet_models_updated import pnet_part_seg_no_tnets, pnet_part_seg\n",
    "import awkward as ak\n",
    "\n",
    "# for plotting\n",
    "import matplotlib.pyplot as plt\n",
    "import matplotlib as mpl\n",
    "from numpy import genfromtxt"
   ]
  },
  {
   "cell_type": "code",
   "execution_count": 11,
   "metadata": {},
   "outputs": [],
   "source": [
    "# set GPU\n",
    "os.environ['CUDA_VISIBLE_DEVICES'] = \"4\"\n",
    "\n",
    "# disable eager execution with tensorflow (since can't execute lambda functions with eager execution)\n",
    "from tensorflow.python.framework.ops import disable_eager_execution\n",
    "disable_eager_execution()"
   ]
  },
  {
   "cell_type": "code",
   "execution_count": 2,
   "metadata": {},
   "outputs": [],
   "source": [
    "# DATA AND OUTPUT DIRS\n",
    "data_dir = '/fast_scratch_1/jbohm/cell_particle_deposit_learning/delta_train' # parent directory that holds train, val, and test files\n",
    "train_data_dir = data_dir + '/train_1_track/'\n",
    "val_data_dir = data_dir + '/val_1_track/'\n",
    "test_data_dir = data_dir + '/test_1_track/'\n",
    "\n",
    "output_dir = \"/fast_scratch_1/jbohm/cell_particle_deposit_learning/delta_train/tr_50_val_5_tst_5_delta_1_track_lr_1e-2_BS_100_no_tnets\" # save model and predictions to this dir\n",
    "max_points_file = '/max_points_1_track.txt' # load the max number of points in a sample\n",
    "\n",
    "num_train_files = 50\n",
    "num_val_files = 5\n",
    "num_test_files = 5\n",
    "events_per_file = 2000 # approx number of samples in a file\n",
    "start_at_epoch = 0 # to load a pre trained model from this epoch\n",
    "\n",
    "EPOCHS = 5\n",
    "BATCH_SIZE = 100\n",
    "LEARNING_RATE = 1e-2\n",
    "add_min_dist = True\n",
    "\n",
    "num_feat = 6\n",
    "num_classes = 2"
   ]
  },
  {
   "cell_type": "code",
   "execution_count": 13,
   "metadata": {},
   "outputs": [],
   "source": [
    "# DATA GENERATORS\n",
    "def batched_data_generator(file_names, batch_size, max_num_points, loop_infinite=True, add_min_track_dist=False):\n",
    "    while True:\n",
    "        for file in file_names:\n",
    "            point_net_data = np.load(file)\n",
    "            event_data = point_net_data['X']\n",
    "            Y = point_net_data['Y']\n",
    "            Y_int = Y.astype(np.int32)\n",
    "\n",
    "            #Y_int[Y_int == 2] = 1 # for delta+ -> p + pi0 (to run with 2 classes - 0 as p and 1 as pi0)\n",
    "\n",
    "            identity = np.eye(num_classes)\n",
    "            one_hot = np.concatenate([identity, np.negative(np.ones((1, num_classes)))])\n",
    "\n",
    "            # pad X and Y data to have y dimension of max_num_points\n",
    "            X_padded = np.zeros((event_data.shape[0], max_num_points, num_feat)) # pad with zeros\n",
    "            Y_padded = np.negative(np.ones(((event_data.shape[0], max_num_points, num_classes)))) # pad with -1s\n",
    "            \n",
    "            for i, event in enumerate(event_data): \n",
    "                X_padded[i, :len(event), :5] = event\n",
    "                Y_padded[i, :len(event), :] = one_hot[np.squeeze(Y_int[i])]\n",
    "\n",
    "\n",
    "                # add a feature of min distance from cell point to track point (for track points this is 0)\n",
    "                if add_min_track_dist:\n",
    "                    track_points_idx = np.arange(len(event))[event[:, 4] == 1]\n",
    "                    dists = np.zeros((len(event), len(track_points_idx)))\n",
    "\n",
    "                    for j, track_point_idx in enumerate(track_points_idx):\n",
    "                        dists[:, j] = np.sqrt((event[:, 1] - event[track_point_idx, 1])**2 + (event[:, 2] - event[track_point_idx, 2])**2 + (event[:, 3] - event[track_point_idx, 3])**2)\n",
    "\n",
    "                    dist_feat_idx = 5\n",
    "                    if np.any(track_points_idx):\n",
    "                        min_dists = np.min(dists, axis=1)\n",
    "                        # recast padding to 0 (padding is where the point is not a track and the label is -1)\n",
    "                        min_dists[(event[:, 4] == 0) & (Y[i, :, 0] == -1)] = 0#13500\n",
    "                        X_padded[i, :len(event), dist_feat_idx] = min_dists\n",
    "\n",
    "                #print(\"X_padded:\\n\", X_padded[i][50])\n",
    "                #print(\"Y_padded:\\n\", Y_padded[i][50])\n",
    "    \n",
    "            # split into batch_size groups of events\n",
    "            for i in range(1, math.ceil(event_data.shape[0]/batch_size)):\n",
    "                yield X_padded[(i-1)*batch_size:i*batch_size], Y_padded[(i-1)*batch_size:i*batch_size]\n",
    "\n",
    "        if not loop_infinite:\n",
    "            break"
   ]
  },
  {
   "cell_type": "code",
   "execution_count": 14,
   "metadata": {},
   "outputs": [],
   "source": [
    "# LOSS\n",
    "def masked_ce_pointwise_loss(y_true, y_pred):\n",
    "    mask = tf.reduce_all(tf.equal(y_true, -1), axis=2)\n",
    "    cell_ce = K.categorical_crossentropy(y_pred, y_true, axis=2)\n",
    "    return K.sum(tf.where(mask, tf.zeros_like(cell_ce), cell_ce)) / K.sum(tf.cast(tf.logical_not(mask), tf.float32), axis=None)\n",
    "\n",
    "def masked_bce_pointwise_loss(y_true, y_pred):\n",
    "    y_true = tf.expand_dims(y_true[:,:,0], -1)\n",
    "    mask = tf.cast(tf.not_equal(y_true, -1), tf.float32)\n",
    "    return K.sum(K.binary_crossentropy(tf.multiply(y_pred, mask), tf.multiply(y_true, mask)), axis=None) / K.sum(mask, axis=None)"
   ]
  },
  {
   "cell_type": "code",
   "execution_count": 15,
   "metadata": {},
   "outputs": [],
   "source": [
    "# SETUP TRAIN, VAL, AND TEST GENERATORS\n",
    "train_files = np.sort(glob.glob(train_data_dir+'*.npz'))[:num_train_files]\n",
    "val_files = np.sort(glob.glob(val_data_dir+'*.npz'))[:num_val_files]\n",
    "test_files = np.sort(glob.glob(test_data_dir+'*.npz'))[:num_test_files]\n",
    "\n",
    "num_batches_train = (len(train_files) * events_per_file) / BATCH_SIZE \n",
    "num_batches_val = (len(val_files) * events_per_file) / BATCH_SIZE\n",
    "num_batches_test = (len(test_files) * events_per_file) / BATCH_SIZE\n",
    "\n",
    "# load the max number of points (N) - saved to data dir\n",
    "with open(data_dir + max_points_file) as f:\n",
    "    N = int(f.readline())\n",
    "\n",
    "train_generator = batched_data_generator(train_files, BATCH_SIZE, N, add_min_track_dist=add_min_dist)\n",
    "val_generator = batched_data_generator(val_files, BATCH_SIZE, N, add_min_track_dist=add_min_dist)\n",
    "test_generator = batched_data_generator(test_files, BATCH_SIZE, N, loop_infinite=False, add_min_track_dist=add_min_dist)\n"
   ]
  },
  {
   "cell_type": "code",
   "execution_count": 16,
   "metadata": {},
   "outputs": [
    {
     "name": "stdout",
     "output_type": "stream",
     "text": [
      "Model: \"model_1\"\n",
      "__________________________________________________________________________________________________\n",
      "Layer (type)                    Output Shape         Param #     Connected to                     \n",
      "==================================================================================================\n",
      "input_2 (InputLayer)            [(None, None, 6)]    0                                            \n",
      "__________________________________________________________________________________________________\n",
      "features_64_tdist (TimeDistribu (None, None, 64)     448         input_2[0][0]                    \n",
      "__________________________________________________________________________________________________\n",
      "batchNorm_features_64 (MaskedBa (None, None, 64)     128         features_64_tdist[0][0]          \n",
      "__________________________________________________________________________________________________\n",
      "features_64_relu (Activation)   (None, None, 64)     0           batchNorm_features_64[0][0]      \n",
      "__________________________________________________________________________________________________\n",
      "features_128_1_tdist (TimeDistr (None, None, 128)    8320        features_64_relu[0][0]           \n",
      "__________________________________________________________________________________________________\n",
      "batchNorm_features_128_1 (Maske (None, None, 128)    256         features_128_1_tdist[0][0]       \n",
      "__________________________________________________________________________________________________\n",
      "features_128_1_relu (Activation (None, None, 128)    0           batchNorm_features_128_1[0][0]   \n",
      "__________________________________________________________________________________________________\n",
      "features_128_2_tdist (TimeDistr (None, None, 128)    16512       features_128_1_relu[0][0]        \n",
      "__________________________________________________________________________________________________\n",
      "batchNorm_features_128_2 (Maske (None, None, 128)    256         features_128_2_tdist[0][0]       \n",
      "__________________________________________________________________________________________________\n",
      "features_128_2_relu (Activation (None, None, 128)    0           batchNorm_features_128_2[0][0]   \n",
      "__________________________________________________________________________________________________\n",
      "features_512_tdist (TimeDistrib (None, None, 512)    66048       features_128_2_relu[0][0]        \n",
      "__________________________________________________________________________________________________\n",
      "batchNorm_features_512 (MaskedB (None, None, 512)    1024        features_512_tdist[0][0]         \n",
      "__________________________________________________________________________________________________\n",
      "features_512_relu (Activation)  (None, None, 512)    0           batchNorm_features_512[0][0]     \n",
      "__________________________________________________________________________________________________\n",
      "pre_maxpool_block_tdist (TimeDi (None, None, 2048)   1050624     features_512_relu[0][0]          \n",
      "__________________________________________________________________________________________________\n",
      "batchNorm_pre_maxpool_block (Ma (None, None, 2048)   4096        pre_maxpool_block_tdist[0][0]    \n",
      "__________________________________________________________________________________________________\n",
      "pre_maxpool_block_relu (Activat (None, None, 2048)   0           batchNorm_pre_maxpool_block[0][0]\n",
      "__________________________________________________________________________________________________\n",
      "pre_maxpool_block_masked (Lambd (None, None, 2048)   0           pre_maxpool_block_relu[0][0]     \n",
      "                                                                 input_2[0][0]                    \n",
      "__________________________________________________________________________________________________\n",
      "global_features (MaxPooling1D)  (None, None, 2048)   0           pre_maxpool_block_masked[0][0]   \n",
      "__________________________________________________________________________________________________\n",
      "tf_op_layer_Tile_1 (TensorFlowO [(None, None, 2048)] 0           global_features[0][0]            \n",
      "__________________________________________________________________________________________________\n",
      "segmentation_input (Concatenate (None, None, 2880)   0           features_64_relu[0][0]           \n",
      "                                                                 features_128_1_relu[0][0]        \n",
      "                                                                 features_128_2_relu[0][0]        \n",
      "                                                                 features_512_relu[0][0]          \n",
      "                                                                 tf_op_layer_Tile_1[0][0]         \n",
      "__________________________________________________________________________________________________\n",
      "segmentation_features_tdist (Ti (None, None, 128)    368768      segmentation_input[0][0]         \n",
      "__________________________________________________________________________________________________\n",
      "batchNorm_segmentation_features (None, None, 128)    256         segmentation_features_tdist[0][0]\n",
      "__________________________________________________________________________________________________\n",
      "segmentation_features_relu (Act (None, None, 128)    0           batchNorm_segmentation_features[0\n",
      "__________________________________________________________________________________________________\n",
      "last_tdist (TimeDistributed)    (None, None, 4)      516         segmentation_features_relu[0][0] \n",
      "__________________________________________________________________________________________________\n",
      "last_act (Activation)           (None, None, 4)      0           last_tdist[0][0]                 \n",
      "==================================================================================================\n",
      "Total params: 1,517,252\n",
      "Trainable params: 1,517,252\n",
      "Non-trainable params: 0\n",
      "__________________________________________________________________________________________________\n"
     ]
    }
   ],
   "source": [
    "# COMPILE MODEL\n",
    "model = pnet_part_seg_no_tnets(N, num_feat, num_classes)\n",
    "\n",
    "# if resuming training load saved weights\n",
    "if start_at_epoch:\n",
    "    model.load_weights(output_dir + \"/weights/weights_\" + str(start_at_epoch - 1) + \".h5\")\n",
    "\n",
    "model.compile(loss=masked_ce_pointwise_loss, optimizer=keras.optimizers.Adam(learning_rate=LEARNING_RATE))\n",
    "model.summary()"
   ]
  },
  {
   "cell_type": "code",
   "execution_count": 17,
   "metadata": {},
   "outputs": [],
   "source": [
    "# CALLBACKS\n",
    "# make directories if not present\n",
    "if not os.path.exists(output_dir):\n",
    "    os.makedirs(output_dir)\n",
    "if not os.path.exists(output_dir + \"/weights\"):\n",
    "    os.makedirs(output_dir + \"/weights\")\n",
    "if not os.path.exists(output_dir + \"/tests\"):\n",
    "    os.makedirs(output_dir + \"/tests\")\n",
    "\n",
    "# save preds, model weights, and train/val loss after each epoch\n",
    "class SaveEpoch(tf.keras.callbacks.Callback):\n",
    "    def on_epoch_end(self, epoch, logs={}):\n",
    "        # save preds on new test file\n",
    "        per_epoch_test_generator = batched_data_generator(test_files, BATCH_SIZE, N, loop_infinite=False, add_min_track_dist=add_min_dist)\n",
    "\n",
    "        predictions = []\n",
    "        labels = []\n",
    "        for X_test, Y_test in per_epoch_test_generator:\n",
    "            predictions.extend(model.predict(X_test))\n",
    "            labels.extend(Y_test)\n",
    "        np.save(output_dir + \"/tests/preds_\" + str(start_at_epoch + epoch) + \".npy\", predictions)\n",
    "        if epoch == 0:\n",
    "            # save the labels for up to 5 test files\n",
    "            np.save(output_dir + \"/tests/labels.npy\", labels)\n",
    "\n",
    "        # save model weights\n",
    "        model.save_weights(output_dir + \"/weights/weights_\" + str(start_at_epoch + epoch) + \".h5\")\n",
    "        # save loss\n",
    "        with open(output_dir + \"/log_loss.csv\" ,'a') as file:\n",
    "            writer = csv.writer(file)\n",
    "            writer.writerow([start_at_epoch + epoch , logs[\"loss\"], logs[\"val_loss\"]])"
   ]
  },
  {
   "cell_type": "code",
   "execution_count": 18,
   "metadata": {},
   "outputs": [
    {
     "name": "stdout",
     "output_type": "stream",
     "text": [
      "Epoch 1/5\n"
     ]
    },
    {
     "name": "stdout",
     "output_type": "stream",
     "text": [
      "1000/1000 [==============================] - ETA: 0s - batch: 499.5000 - size: 100.0000 - loss: 8.0429"
     ]
    },
    {
     "name": "stderr",
     "output_type": "stream",
     "text": [
      "/usr/local/lib/python3.8/dist-packages/keras/engine/training.py:2470: UserWarning: `Model.state_updates` will be removed in a future version. This property should not be used in TensorFlow 2.0, as `updates` are applied automatically.\n",
      "  warnings.warn('`Model.state_updates` will be removed in a future version. '\n"
     ]
    },
    {
     "name": "stdout",
     "output_type": "stream",
     "text": [
      "1000/1000 [==============================] - 503s 500ms/step - batch: 499.5000 - size: 100.0000 - loss: 8.0429 - val_loss: 7.7968\n",
      "Epoch 2/5\n",
      "1000/1000 [==============================] - 499s 499ms/step - batch: 499.5000 - size: 100.0000 - loss: 7.7432 - val_loss: 7.6363\n",
      "Epoch 3/5\n",
      "1000/1000 [==============================] - 498s 498ms/step - batch: 499.5000 - size: 100.0000 - loss: 7.5718 - val_loss: 7.2483\n",
      "Epoch 4/5\n",
      "1000/1000 [==============================] - 500s 500ms/step - batch: 499.5000 - size: 100.0000 - loss: 7.0865 - val_loss: 6.8080\n",
      "Epoch 5/5\n",
      "1000/1000 [==============================] - 500s 500ms/step - batch: 499.5000 - size: 100.0000 - loss: 6.7954 - val_loss: 6.9063\n"
     ]
    }
   ],
   "source": [
    "history = model.fit(train_generator,\n",
    "    epochs=EPOCHS,\n",
    "    validation_data=val_generator,\n",
    "    verbose=1,\n",
    "    steps_per_epoch=num_batches_train,\n",
    "    validation_steps=num_batches_val,\n",
    "    callbacks=[SaveEpoch()])"
   ]
  },
  {
   "cell_type": "markdown",
   "metadata": {},
   "source": [
    "Analysis"
   ]
  },
  {
   "cell_type": "code",
   "execution_count": 187,
   "metadata": {},
   "outputs": [
    {
     "data": {
      "image/png": "[encoded data removed]",
      "text/plain": [
       "<Figure size 432x288 with 1 Axes>"
      ]
     },
     "metadata": {},
     "output_type": "display_data"
    },
    {
     "name": "stdout",
     "output_type": "stream",
     "text": [
      "num points unmasked: 3359005\n",
      "num points masked: 19178995\n",
      "[0.7333022725479718, 0.744357332007544, 0.7564186418299467, 0.7573311144222769, 0.7565954799114619, 0.7600456087442561, 0.7657705183529051, 0.7922247808502816, 0.8092250532523768, 0.8237966302521134, 0.8274194292655117, 0.8286462806694245, 0.8318743199250969, 0.8320583029796026, 0.8231250027910051, 0.8373542165016128, 0.8379728520797082, 0.836108311836392, 0.8368621064868912, 0.8409121153436806, 0.8410347707133511, 0.8396712717009948, 0.8439645073466696, 0.8433497419622775, 0.8431702245158909, 0.8410853809387006, 0.8458046355989348, 0.8463175851182121, 0.8464569120915271, 0.8455911795308432, 0.8474854904949531, 0.8465521783980673, 0.8479400894014746, 0.8464071949878015, 0.848403917231442, 0.8474932308823595, 0.8477084731936987, 0.8493053746570786, 0.847063043966889, 0.8453309834311054, 0.8464926369564797, 0.8489049584624018, 0.8516769102755132, 0.850658751624365, 0.8523473469077897, 0.8517992679379757, 0.8522681567904782, 0.8514560115272231, 0.8501460998122956, 0.8499740250461074]\n"
     ]
    },
    {
     "data": {
      "image/png": "[encoded data removed]",
      "text/plain": [
       "<Figure size 432x288 with 1 Axes>"
      ]
     },
     "metadata": {},
     "output_type": "display_data"
    }
   ],
   "source": [
    "def get_accuracy(preds, labels):\n",
    "    correct = (np.array(preds) > 0.5) == np.array(labels)\n",
    "    return np.count_nonzero(correct)/len(correct)\n",
    "\n",
    "def get_accuracy_multi_class(preds, labels):\n",
    "    correct = np.argmax(labels, axis=1) == np.argmax(preds, axis=1)\n",
    "    return np.count_nonzero(correct)/len(correct)\n",
    "\n",
    "# plot train and val loss over epoch\n",
    "def plot_train_and_val_loss(train_loss, val_loss):\n",
    "    fig = plt.figure()\n",
    "    fig.patch.set_facecolor('white')\n",
    "    plt.plot(train_loss, label=\"train\", color=\"#009fdf\")\n",
    "    plt.plot(val_loss, label=\"tal\", color=\"#F2705D\")\n",
    "    plt.xlabel(\"Epoch\")\n",
    "    plt.ylabel(\"Loss\")\n",
    "    plt.legend()\n",
    "    plt.title(\"Training loss\")\n",
    "    plt.show()\n",
    "\n",
    "def plot_accuracy(preds, labels):\n",
    "    accuracy = []\n",
    "    for epoch_preds in preds:\n",
    "        accuracy.append(get_accuracy_multi_class(epoch_preds, labels))\n",
    "    print(accuracy)\n",
    "    fig = plt.figure()\n",
    "    fig.patch.set_facecolor('white')\n",
    "    plt.plot(accuracy, color=\"#009fdf\")\n",
    "    plt.xlabel(\"Epoch\")\n",
    "    plt.ylabel(\"Accuracy\")\n",
    "    plt.title(\"Classification accuracy\")\n",
    "    plt.show()\n",
    "\n",
    "num_epoch = 50\n",
    "model_file_path =  \"/fast_scratch_1/jbohm/cell_particle_deposit_learning/rho_train/tr_25_val_3_tst_5_rho_2_class_lr_1e-2_BS_100_no_tnets_add_min_dist\"\n",
    "\n",
    "# plot train and val loss\n",
    "loss_data = genfromtxt(model_file_path + \"/log_loss.csv\", delimiter=',').transpose()\n",
    "loss = loss_data[1]\n",
    "val_loss = loss_data[2]\n",
    "plot_train_and_val_loss(loss, val_loss)\n",
    "\n",
    "# plot test accuracy\n",
    "labels_unmasked = np.load(model_file_path + \"/tests/labels.npy\")\n",
    "labels = labels_unmasked[labels_unmasked[:,:,0] != -1]\n",
    "\n",
    "print(\"num points unmasked:\", np.count_nonzero([labels_unmasked[:,:,0] != -1]))\n",
    "print(\"num points masked:\", np.count_nonzero([labels_unmasked[:,:,0] == -1]))\n",
    "preds = []\n",
    "for epoch in range(num_epoch):\n",
    "    preds_unmasked = ak.Array(np.load(model_file_path + \"/tests/preds_\" + str(epoch) + \".npy\"))\n",
    "    #preds_unmasked = preds_unmasked[:, :, 0]\n",
    "    epoch_preds = preds_unmasked[labels_unmasked[:,:,0] != -1]\n",
    "    preds.append(epoch_preds)\n",
    "\n",
    "plot_accuracy(preds, labels)\n",
    "\n",
    "    "
   ]
  },
  {
   "cell_type": "code",
   "execution_count": 23,
   "metadata": {},
   "outputs": [
    {
     "name": "stdout",
     "output_type": "stream",
     "text": [
      "[[1, 2.75e-07, 1.11e-05, 3.47e-08], [1, ... [1, 3.67e-07, 1.26e-05, 4.96e-08]]\n"
     ]
    }
   ],
   "source": [
    "print(preds_unmasked[0])"
   ]
  }
 ],
 "metadata": {
  "kernelspec": {
   "display_name": "Python 3",
   "language": "python",
   "name": "python3"
  },
  "orig_nbformat": 4
 },
 "nbformat": 4,
 "nbformat_minor": 2
}
