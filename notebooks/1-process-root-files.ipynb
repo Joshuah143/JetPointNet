{
 "cells": [
  {
   "cell_type": "markdown",
   "metadata": {},
   "source": [
    "## Note: The instructions laid out in the numbered ipynb files are somwhat incomplete as we continue to develp JetPointNet. If you are looking to run the model yourself, please reach out."
   ]
  },
  {
   "cell_type": "code",
   "execution_count": null,
   "metadata": {},
   "outputs": [],
   "source": [
    "import sys\n",
    "from pathlib import Path\n",
    "REPO_PATH = Path.home() / \"workspace/jetpointnet\"\n",
    "SCRIPT_PATH = REPO_PATH / \"python_scripts\"\n",
    "sys.path.append(str(SCRIPT_PATH))\n",
    "import os\n",
    "\n",
    "from data_processing.jets.preprocessing_header import AWK_SAVE_LOC, MAX_SAMPLE_LENGTH, LEN, MIN_TRACK_POINTS, LEN_OUTPUT_DIRECTORY_NAME, LEN_DATASET_NAME, prefix_match, prefix_to_set\n",
    "from data_processing.jets.jets_root_to_awk import main as roots_to_awk\n",
    "\n",
    "import re\n",
    "from pathlib import Path\n",
    "import json\n",
    "import re\n",
    "import matplotlib.pyplot as plt\n",
    "import numpy as np"
   ]
  },
  {
   "cell_type": "code",
   "execution_count": null,
   "metadata": {},
   "outputs": [],
   "source": [
    "roots_to_awk()"
   ]
  }
 ],
 "metadata": {
  "language_info": {
   "name": "python"
  }
 },
 "nbformat": 4,
 "nbformat_minor": 2
}
