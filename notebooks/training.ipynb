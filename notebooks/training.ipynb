{
 "cells": [
  {
   "cell_type": "code",
   "execution_count": null,
   "metadata": {},
   "outputs": [],
   "source": [
    "import os\n",
    "os.environ[\"CUDA_VISIBLE_DEVICES\"] = \"1\""
   ]
  },
  {
   "cell_type": "code",
   "execution_count": 7,
   "metadata": {},
   "outputs": [],
   "source": [
    "import uproot\n",
    "\n",
    "import awkward as ak\n",
    "import numpy as np\n",
    "import glob\n",
    "import time\n",
    "from pathlib import Path\n",
    "from multiprocessing import Pool\n",
    "import os\n",
    "from tqdm.auto import tqdm\n",
    "\n",
    "import sys\n",
    "\n",
    "REPO_PATH = Path.home() / \"workspace/jetpointnet\"\n",
    "SCRIPT_PATH = REPO_PATH / \"python_scripts\"\n",
    "sys.path.append(str(SCRIPT_PATH))\n",
    "\n",
    "\n",
    "from data_processing.jets.preprocessing_header import *\n",
    "from data_processing.jets.awk_utils import *\n",
    "from data_processing.jets.common_utils import *\n",
    "\n",
    "import sys\n",
    "from pathlib import Path\n",
    "\n",
    "REPO_PATH = Path.home() / \"workspace/jetpointnet\"\n",
    "SCRIPT_PATH = REPO_PATH / \"python_scripts\"\n",
    "\n",
    "sys.path.append(str(SCRIPT_PATH))\n",
    "\n",
    "\n",
    "from data_processing.jets.npz_utils import (\n",
    "    build_labels_array,\n",
    "    build_input_array\n",
    ")\n",
    "from data_processing.jets.common_utils import (\n",
    "    print_events,\n",
    "    calculate_max_sample_length,\n",
    ")\n",
    "from data_processing.jets.preprocessing_header import (\n",
    "    AWK_SAVE_LOC,\n",
    "    INCLUDE_SETS_TO_NPZ,\n",
    "    NPZ_SAVE_LOC,\n",
    "    NUM_CHUNK_THREADS,\n",
    "    ENERGY_SCALE,\n",
    "    OVERWRITE_NPZ,\n",
    "    MAX_SAMPLE_LENGTH,\n",
    ")\n",
    "from jets_training.jets_train import train\n",
    "import awkward as ak\n",
    "import pyarrow.parquet as pq\n",
    "import numpy as np\n",
    "import pandas as pd\n",
    "import os\n",
    "import time\n",
    "from tqdm.auto import tqdm\n",
    "from multiprocessing import Pool\n"
   ]
  },
  {
   "cell_type": "code",
   "execution_count": 8,
   "metadata": {},
   "outputs": [
    {
     "data": {
      "text/html": [
       "wandb version 0.17.3 is available!  To upgrade, please run:\n",
       " $ pip install wandb --upgrade"
      ],
      "text/plain": [
       "<IPython.core.display.HTML object>"
      ]
     },
     "metadata": {},
     "output_type": "display_data"
    },
    {
     "data": {
      "text/html": [
       "Tracking run with wandb version 0.17.1"
      ],
      "text/plain": [
       "<IPython.core.display.HTML object>"
      ]
     },
     "metadata": {},
     "output_type": "display_data"
    },
    {
     "data": {
      "text/html": [
       "Run data is saved locally in <code>/home/jhimmens/workspace/jetpointnet/notebooks/wandb/run-20240625_183251-vzx1kzoz</code>"
      ],
      "text/plain": [
       "<IPython.core.display.HTML object>"
      ]
     },
     "metadata": {},
     "output_type": "display_data"
    },
    {
     "data": {
      "text/html": [
       "Syncing run <strong><a href='https://wandb.ai/jetpointnet/pointcloud/runs/vzx1kzoz' target=\"_blank\">upbeat-smoke-787</a></strong> to <a href='https://wandb.ai/jetpointnet/pointcloud' target=\"_blank\">Weights & Biases</a> (<a href='https://wandb.me/run' target=\"_blank\">docs</a>)<br/>"
      ],
      "text/plain": [
       "<IPython.core.display.HTML object>"
      ]
     },
     "metadata": {},
     "output_type": "display_data"
    },
    {
     "data": {
      "text/html": [
       " View project at <a href='https://wandb.ai/jetpointnet/pointcloud' target=\"_blank\">https://wandb.ai/jetpointnet/pointcloud</a>"
      ],
      "text/plain": [
       "<IPython.core.display.HTML object>"
      ]
     },
     "metadata": {},
     "output_type": "display_data"
    },
    {
     "data": {
      "text/html": [
       " View run at <a href='https://wandb.ai/jetpointnet/pointcloud/runs/vzx1kzoz' target=\"_blank\">https://wandb.ai/jetpointnet/pointcloud/runs/vzx1kzoz</a>"
      ],
      "text/plain": [
       "<IPython.core.display.HTML object>"
      ]
     },
     "metadata": {},
     "output_type": "display_data"
    },
    {
     "name": "stdout",
     "output_type": "stream",
     "text": [
      "train_steps = 500;\tval_steps = 500\n",
      "Setting training determinism based on seed=13\n",
      "Total params: 5,104,897\n",
      "Trainable params: 5,073,409\n",
      "Non-trainable params: 31,488\n",
      "\n",
      "Start of epoch 0\n",
      "\n",
      "\n",
      "Training completed!\n"
     ]
    },
    {
     "data": {
      "application/vnd.jupyter.widget-view+json": {
       "model_id": "536dc6f00cd742cf9dcbd47a3f740049",
       "version_major": 2,
       "version_minor": 0
      },
      "text/plain": [
       "VBox(children=(Label(value='23.347 MB of 23.347 MB uploaded\\r'), FloatProgress(value=1.0, max=1.0)))"
      ]
     },
     "metadata": {},
     "output_type": "display_data"
    },
    {
     "data": {
      "text/html": [
       " View run <strong style=\"color:#cdcd00\">upbeat-smoke-787</strong> at: <a href='https://wandb.ai/jetpointnet/pointcloud/runs/vzx1kzoz' target=\"_blank\">https://wandb.ai/jetpointnet/pointcloud/runs/vzx1kzoz</a><br/> View project at: <a href='https://wandb.ai/jetpointnet/pointcloud' target=\"_blank\">https://wandb.ai/jetpointnet/pointcloud</a><br/>Synced 6 W&B file(s), 0 media file(s), 1 artifact file(s) and 2 other file(s)"
      ],
      "text/plain": [
       "<IPython.core.display.HTML object>"
      ]
     },
     "metadata": {},
     "output_type": "display_data"
    },
    {
     "data": {
      "text/html": [
       "Find logs at: <code>./wandb/run-20240625_183251-vzx1kzoz/logs</code>"
      ],
      "text/plain": [
       "<IPython.core.display.HTML object>"
      ]
     },
     "metadata": {},
     "output_type": "display_data"
    }
   ],
   "source": [
    "\n",
    "train()"
   ]
  }
 ],
 "metadata": {
  "kernelspec": {
   "display_name": "Python 3",
   "language": "python",
   "name": "python3"
  },
  "language_info": {
   "codemirror_mode": {
    "name": "ipython",
    "version": 3
   },
   "file_extension": ".py",
   "mimetype": "text/x-python",
   "name": "python",
   "nbconvert_exporter": "python",
   "pygments_lexer": "ipython3",
   "version": "3.10.12"
  }
 },
 "nbformat": 4,
 "nbformat_minor": 2
}
