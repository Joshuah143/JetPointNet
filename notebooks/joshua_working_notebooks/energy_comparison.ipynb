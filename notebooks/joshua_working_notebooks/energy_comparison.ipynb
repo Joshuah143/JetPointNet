{
 "cells": [
  {
   "cell_type": "code",
   "execution_count": null,
   "metadata": {},
   "outputs": [],
   "source": [
    "import uproot\n",
    "import awkward as ak\n",
    "from pathlib import Path\n",
    "import matplotlib.pyplot as plt\n",
    "import sys\n",
    "from mpl_toolkits.mplot3d import Axes3D\n",
    "from particle import Particle\n",
    "import numpy as np\n",
    "import random\n",
    "import pyarrow.parquet as pq\n",
    "from matplotlib import gridspec\n",
    "\n",
    "REPO_PATH = Path.home() / \"workspace/jetpointnet\"\n",
    "SCRIPT_PATH = REPO_PATH / \"python_scripts\"\n",
    "sys.path.append(str(SCRIPT_PATH))\n",
    "\n",
    "from data_processing.jets.common_utils import calculate_cartesian_coordinates, intersection_fixed_z\n",
    "from data_processing.jets.track_metadata import fixed_r, fixed_z\n",
    "from data_processing.jets.preprocessing_header import POINT_TYPE_LABELS, POINT_TYPE_ENCODING\n",
    "\n",
    "\n",
    "GEO_FILE_LOC = \"/fast_scratch_1/atlas/pflow/rho_small.root\"\n",
    "\n",
    "\n",
    "geo_file = uproot.open(GEO_FILE_LOC)\n"
   ]
  },
  {
   "cell_type": "code",
   "execution_count": null,
   "metadata": {},
   "outputs": [],
   "source": [
    "r5_file = \"/fast_scratch_1/atlas/pflow/jhimmens_working_files/pnet_data/processed_files/collected_data/rev_5/AwkwardArrs/deltaR=0.2/val/rho/user.mswiatlo.40097513._000014.mltree.root_chunk_3_val.parquet\"\n",
    "r7_file = \"/fast_scratch_1/atlas/pflow/jhimmens_working_files/pnet_data/processed_files/collected_data/rev_7/AwkwardArrs/deltaR=0.2/val/rho/user.mswiatlo.40097513._000014.mltree.root_chunk_3_val.parquet\""
   ]
  },
  {
   "cell_type": "code",
   "execution_count": null,
   "metadata": {},
   "outputs": [],
   "source": [
    "def read_parquet(filename):\n",
    "    table = pq.read_table(filename)\n",
    "    ak_array = ak.from_arrow(table)\n",
    "    return ak_array\n",
    "\n",
    "r5_file = read_parquet(r5_file)\n",
    "r7_file = read_parquet(r7_file)"
   ]
  }
 ],
 "metadata": {
  "kernelspec": {
   "display_name": "Python 3",
   "language": "python",
   "name": "python3"
  },
  "language_info": {
   "name": "python",
   "version": "3.10.12"
  }
 },
 "nbformat": 4,
 "nbformat_minor": 2
}
