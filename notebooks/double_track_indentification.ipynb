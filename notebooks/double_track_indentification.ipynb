{
 "cells": [
  {
   "cell_type": "markdown",
   "metadata": {},
   "source": [
    "Tracks under investigation:\n",
    "Event 130690 trackIDs 11, 14, and 19\n",
    "(from images on slide)"
   ]
  },
  {
   "cell_type": "code",
   "execution_count": 2,
   "metadata": {},
   "outputs": [],
   "source": [
    "import uproot\n",
    "import awkward as ak\n",
    "import numpy as np\n",
    "import glob\n",
    "import time\n",
    "from pathlib import Path\n",
    "from multiprocessing import Pool\n",
    "import os\n",
    "from tqdm.auto import tqdm\n",
    "\n",
    "import sys\n",
    "\n",
    "REPO_PATH = Path.home() / \"workspace/jetpointnet\"\n",
    "SCRIPT_PATH = REPO_PATH / \"python_scripts\"\n",
    "sys.path.append(str(SCRIPT_PATH))\n",
    "\n",
    "\n",
    "from data_processing.jets.preprocessing_header import *\n",
    "from data_processing.jets.awk_utils import *\n",
    "from data_processing.jets.common_utils import *\n",
    "\n",
    "import sys\n",
    "from pathlib import Path\n",
    "\n",
    "REPO_PATH = Path.home() / \"workspace/jetpointnet\"\n",
    "SCRIPT_PATH = REPO_PATH / \"python_scripts\"\n",
    "\n",
    "sys.path.append(str(SCRIPT_PATH))\n",
    "\n",
    "\n",
    "from data_processing.jets.npz_utils import (\n",
    "    build_labels_array,\n",
    "    build_input_array\n",
    ")\n",
    "from data_processing.jets.common_utils import (\n",
    "    print_events,\n",
    "    calculate_max_sample_length,\n",
    ")\n",
    "from data_processing.jets.preprocessing_header import (\n",
    "    AWK_SAVE_LOC,\n",
    "    INCLUDE_SETS_TO_NPZ,\n",
    "    NPZ_SAVE_LOC,\n",
    "    NUM_CHUNK_THREADS,\n",
    "    ENERGY_SCALE,\n",
    "    OVERWRITE_NPZ,\n",
    "    MAX_SAMPLE_LENGTH,\n",
    ")\n",
    "import awkward as ak\n",
    "import pyarrow.parquet as pq\n",
    "import numpy as np\n",
    "import pandas as pd\n",
    "import os\n",
    "import time\n",
    "from tqdm.auto import tqdm\n",
    "from multiprocessing import Pool\n"
   ]
  },
  {
   "cell_type": "code",
   "execution_count": 3,
   "metadata": {},
   "outputs": [],
   "source": [
    "npz_path = \"/home/jhimmens/workspace/jetpointnet/pnet_data/processed_files/attempt_1_june_18/full_set/SavedNpz/deltaR=0.2_maxLen=650_sets=JZ0JZ1JZ2/energy_scale=1/val/user.mswiatlo.39955678._000258.mltree.root_chunk_0_val.parquet.npz\"\n",
    "awk_path = \"/home/jhimmens/workspace/jetpointnet/pnet_data/processed_files/attempt_1_june_18/full_set/AwkwardArrs/deltaR=0.2/val/user.mswiatlo.39955678._000258.mltree.root_chunk_0_val.parquet\"\n",
    "root_path = \"/fast_scratch_1/atlas/pflow/20240614/user.mswiatlo.801167.Py8EG_A14NNPDF23LO_jj_JZ2.recon.ESD.e8514_e8528_s4185_s4114_r14977_2024.06.14.1_mltree.root/user.mswiatlo.39955678._000258.mltree.root\""
   ]
  },
  {
   "cell_type": "markdown",
   "metadata": {},
   "source": [
    "## Root"
   ]
  },
  {
   "cell_type": "code",
   "execution_count": 4,
   "metadata": {},
   "outputs": [
    {
     "data": {
      "text/plain": [
       "['runNumber',\n",
       " 'eventNumber',\n",
       " 'lumiBlock',\n",
       " 'coreFlags',\n",
       " 'mcEventNumber',\n",
       " 'mcChannelNumber',\n",
       " 'mcEventWeight',\n",
       " 'nTruthPart',\n",
       " 'truthPartBarcode',\n",
       " 'truthPartPdgId',\n",
       " 'G4PreCalo_n_EM',\n",
       " 'G4PreCalo_E_EM',\n",
       " 'G4PreCalo_n_Had',\n",
       " 'G4PreCalo_E_Had',\n",
       " 'truthVertexX',\n",
       " 'truthVertexY',\n",
       " 'truthVertexZ',\n",
       " 'truthPartStatus',\n",
       " 'truthPartPt',\n",
       " 'truthPartE',\n",
       " 'truthPartMass',\n",
       " 'truthPartEta',\n",
       " 'truthPartPhi',\n",
       " 'nTrack',\n",
       " 'trackPt',\n",
       " 'trackP',\n",
       " 'trackMass',\n",
       " 'trackEta',\n",
       " 'trackPhi',\n",
       " 'trackTruthParticleIndex',\n",
       " 'trackVisibleCalHitCaloEnergy',\n",
       " 'trackFullCalHitCaloEnergy',\n",
       " 'trackSubtractedCaloEnergy',\n",
       " 'trackNumberOfPixelHits',\n",
       " 'trackNumberOfSCTHits',\n",
       " 'trackNumberOfPixelDeadSensors',\n",
       " 'trackNumberOfSCTDeadSensors',\n",
       " 'trackNumberOfPixelSharedHits',\n",
       " 'trackNumberOfSCTSharedHits',\n",
       " 'trackNumberOfPixelHoles',\n",
       " 'trackNumberOfSCTHoles',\n",
       " 'trackNumberOfInnermostPixelLayerHits',\n",
       " 'trackNumberOfNextToInnermostPixelLayerHits',\n",
       " 'trackExpectInnermostPixelLayerHit',\n",
       " 'trackExpectNextToInnermostPixelLayerHit',\n",
       " 'trackNumberOfTRTHits',\n",
       " 'trackNumberOfTRTOutliers',\n",
       " 'trackChiSquared',\n",
       " 'trackNumberDOF',\n",
       " 'trackD0',\n",
       " 'trackZ0',\n",
       " 'trackEta_PreSamplerB',\n",
       " 'trackPhi_PreSamplerB',\n",
       " 'trackEta_PreSamplerE',\n",
       " 'trackPhi_PreSamplerE',\n",
       " 'trackEta_EMB1',\n",
       " 'trackPhi_EMB1',\n",
       " 'trackEta_EMB2',\n",
       " 'trackPhi_EMB2',\n",
       " 'trackEta_EMB3',\n",
       " 'trackPhi_EMB3',\n",
       " 'trackEta_EME1',\n",
       " 'trackPhi_EME1',\n",
       " 'trackEta_EME2',\n",
       " 'trackPhi_EME2',\n",
       " 'trackEta_EME3',\n",
       " 'trackPhi_EME3',\n",
       " 'trackEta_HEC0',\n",
       " 'trackPhi_HEC0',\n",
       " 'trackEta_HEC1',\n",
       " 'trackPhi_HEC1',\n",
       " 'trackEta_HEC2',\n",
       " 'trackPhi_HEC2',\n",
       " 'trackEta_HEC3',\n",
       " 'trackPhi_HEC3',\n",
       " 'trackEta_TileBar0',\n",
       " 'trackPhi_TileBar0',\n",
       " 'trackEta_TileBar1',\n",
       " 'trackPhi_TileBar1',\n",
       " 'trackEta_TileBar2',\n",
       " 'trackPhi_TileBar2',\n",
       " 'trackEta_TileGap1',\n",
       " 'trackPhi_TileGap1',\n",
       " 'trackEta_TileGap2',\n",
       " 'trackPhi_TileGap2',\n",
       " 'trackEta_TileGap3',\n",
       " 'trackPhi_TileGap3',\n",
       " 'trackEta_TileExt0',\n",
       " 'trackPhi_TileExt0',\n",
       " 'trackEta_TileExt1',\n",
       " 'trackPhi_TileExt1',\n",
       " 'trackEta_TileExt2',\n",
       " 'trackPhi_TileExt2',\n",
       " 'nCluster',\n",
       " 'cluster_E',\n",
       " 'cluster_E_LCCalib',\n",
       " 'cluster_Pt',\n",
       " 'cluster_Eta',\n",
       " 'cluster_Phi',\n",
       " 'cluster_widthEta',\n",
       " 'cluster_widthPhi',\n",
       " 'cluster_nCells',\n",
       " 'cluster_ENG_CALIB_TOT',\n",
       " 'cluster_ENG_CALIB_OUT_T',\n",
       " 'cluster_ENG_CALIB_DEAD_TOT',\n",
       " 'cluster_EM_PROBABILITY',\n",
       " 'cluster_HAD_WEIGHT',\n",
       " 'cluster_OOC_WEIGHT',\n",
       " 'cluster_DM_WEIGHT',\n",
       " 'cluster_CENTER_MAG',\n",
       " 'cluster_FIRST_ENG_DENS',\n",
       " 'cluster_CENTER_LAMBDA',\n",
       " 'cluster_ISOLATION',\n",
       " 'cluster_ENERGY_DigiHSTruth',\n",
       " 'cluster_cell_ID',\n",
       " 'cluster_cell_E',\n",
       " 'cluster_fullHitsTruthIndex',\n",
       " 'cluster_fullHitsTruthE',\n",
       " 'cluster_visibleHitsTruthIndex',\n",
       " 'cluster_visibleHitsTruthE',\n",
       " 'cluster_cell_hitsTruthIndex',\n",
       " 'cluster_cell_hitsTruthE']"
      ]
     },
     "execution_count": 4,
     "metadata": {},
     "output_type": "execute_result"
    }
   ],
   "source": [
    "root_file = uproot.open(root_path + \":EventTree\")\n",
    "# index = root_file[\"eventNumber\"].array()#.index(130690)\n",
    "index_of_event = ak.where(root_file[\"eventNumber\"].array() == 130690)[0]\n",
    "\"\"\"trackEta_EMB1',\n",
    " 'trackPhi_EMB1'\"\"\"\n",
    "root_file.keys()"
   ]
  },
  {
   "cell_type": "code",
   "execution_count": 5,
   "metadata": {},
   "outputs": [
    {
     "data": {
      "text/plain": [
       "(<Array [-0.309, -0.292, -1.02] type='3 * float32'>,\n",
       " <Array [-1.23, -0.325, -1e+09] type='3 * float32'>,\n",
       " <Array [-0.713, -0.197, -0.455] type='3 * float32'>)"
      ]
     },
     "execution_count": 5,
     "metadata": {},
     "output_type": "execute_result"
    }
   ],
   "source": [
    "etas = root_file[\"trackEta_EMB1\"].array()[0]\n",
    "phis = root_file[\"trackPhi_EMB1\"].array()[0]\n",
    "\n",
    "etas[10:13], etas[13:16], etas[18:21]\n",
    "\n"
   ]
  },
  {
   "cell_type": "markdown",
   "metadata": {},
   "source": [
    "## NPZ"
   ]
  },
  {
   "cell_type": "code",
   "execution_count": 12,
   "metadata": {},
   "outputs": [],
   "source": [
    "def load_data_from_npz(npz_file):\n",
    "    data = np.load(npz_file)\n",
    "    feats = data['feats'][:, :MAX_SAMPLE_LENGTH]  # Shape: (num_samples, 859, 6)\n",
    "    frac_labels = data['frac_labels'][:, :MAX_SAMPLE_LENGTH]  # Shape: (num_samples, 859)\n",
    "    tot_labels = data['tot_labels'][:, :MAX_SAMPLE_LENGTH]  # Shape: (num_samples, 859)\n",
    "    tot_truth_e = data['tot_truth_e'][:, :MAX_SAMPLE_LENGTH]  # Shape: (num_samples, 859) (This is the true total energy deposited by particles into this cell)\n",
    "    return feats, frac_labels, tot_labels, tot_truth_e\n",
    "\n",
    "feats, frac_labels, tot_labels, tot_truth_e = load_data_from_npz(npz_path)\n",
    "\n"
   ]
  },
  {
   "cell_type": "code",
   "execution_count": 13,
   "metadata": {},
   "outputs": [
    {
     "data": {
      "text/plain": [
       "2"
      ]
     },
     "execution_count": 13,
     "metadata": {},
     "output_type": "execute_result"
    }
   ],
   "source": [
    "num_points = 650\n",
    "\n",
    "# 19 tracks in event 130690: list(feats[\"event_number\"][:, 0]).count(130690)\n",
    "\n",
    "event_array_dtype = np.dtype([ # none can be unsigned because -1 is used as a pad for all, see above\n",
    "                ('event_number', np.int32),\n",
    "                ('cell_ID', np.int32),\n",
    "                ('track_ID', np.int32),\n",
    "                ('delta_R', np.float32),             \n",
    "                ('category', np.int8),\n",
    "                ('track_num', np.int32),\n",
    "                ('normalized_x', np.float32),\n",
    "                ('normalized_y', np.float32),\n",
    "                ('normalized_z', np.float32),\n",
    "                ('normalized_distance', np.float32),\n",
    "                ('cell_E', np.float32),\n",
    "                ('track_pt', np.float32),\n",
    "            ])\n",
    "\n",
    "track_num = 13\n",
    "idx_0 = 10 # trackID 2\n",
    "idx_1 = 16 # trackID 11\n",
    "feats[\"normalized_x\"][track_num][feats[\"track_ID\"][track_num] != -1][16]\n",
    "feats[\"track_ID\"][track_num][feats[\"track_ID\"][track_num] != -1][10]"
   ]
  },
  {
   "cell_type": "code",
   "execution_count": 14,
   "metadata": {},
   "outputs": [
    {
     "data": {
      "text/plain": [
       "(2681, 650)"
      ]
     },
     "execution_count": 14,
     "metadata": {},
     "output_type": "execute_result"
    }
   ],
   "source": [
    "feats.shape"
   ]
  },
  {
   "cell_type": "markdown",
   "metadata": {},
   "source": [
    "## Awkward"
   ]
  },
  {
   "cell_type": "code",
   "execution_count": 11,
   "metadata": {},
   "outputs": [
    {
     "data": {
      "text/html": [
       "<pre>[[{trackID: 0, trackEta: 2.11, trackPhi: -2.79, track_part_Idx: 336, ...}, ...],\n",
       " [{trackID: 0, trackEta: -0.465, trackPhi: -0.743, ...}, {...}, ..., {...}],\n",
       " [{trackID: 0, trackEta: -0.0959, trackPhi: 0.874, ...}, {...}, ..., {...}],\n",
       " [{trackID: 0, trackEta: -2.25, trackPhi: -3.04, ...}, {...}, ..., {...}],\n",
       " [{trackID: 0, trackEta: 2.22, trackPhi: -3.13, track_part_Idx: ..., ...}, ...],\n",
       " [{trackID: 0, trackEta: -1.55, trackPhi: -2.69, ...}, {...}, ..., {...}],\n",
       " [{trackID: 0, trackEta: 0.446, trackPhi: -0.009, ...}, {...}, ..., {...}],\n",
       " [{trackID: 0, trackEta: 2.21, trackPhi: 1.34, track_part_Idx: 652, ...}, ...],\n",
       " [{trackID: 0, trackEta: -2.39, trackPhi: -1.14, ...}, {...}, ..., {...}],\n",
       " [{trackID: 0, trackEta: 2.34, trackPhi: -2.09, track_part_Idx: ..., ...}, ...],\n",
       " ...,\n",
       " [{trackID: 0, trackEta: 2.42, trackPhi: 0.875, track_part_Idx: 775, ...}, ...],\n",
       " [{trackID: 0, trackEta: 1.93, trackPhi: -0.79, track_part_Idx: 230, ...}, ...],\n",
       " [{trackID: 0, trackEta: -1.38, trackPhi: -3.06, ...}, {...}, ..., {...}],\n",
       " [{trackID: 0, trackEta: 1.23, trackPhi: 3.12, track_part_Idx: 521, ...}, ...],\n",
       " [{trackID: 0, trackEta: -2.35, trackPhi: 1.28, track_part_Idx: 456, ...}, ...],\n",
       " [{trackID: 0, trackEta: 0.293, trackPhi: -1.61, ...}, {...}, ..., {...}],\n",
       " [{trackID: 0, trackEta: 2.21, trackPhi: -0.554, ...}, {...}, ..., {...}],\n",
       " [{trackID: 0, trackEta: 2.21, trackPhi: 1.05, track_part_Idx: 1292, ...}, ...],\n",
       " [{trackID: 0, trackEta: -0.471, trackPhi: -1.32, ...}, {...}, ..., {...}]]\n",
       "--------------------------------------------------------------------------------\n",
       "type: 150 * var * {\n",
       "    trackID: int64,\n",
       "    trackEta: float64,\n",
       "    trackPhi: float64,\n",
       "    track_part_Idx: int64,\n",
       "    eventNumber: int64,\n",
       "    trackEta_EMB2: ?float64,\n",
       "    trackPhi_EMB2: ?float64,\n",
       "    trackEta_EME2: ?float64,\n",
       "    trackPhi_EME2: ?float64,\n",
       "    trackSubtractedCaloEnergy: float64,\n",
       "    trackPt: float64,\n",
       "    &quot;trackChiSquared/trackNumberDOF&quot;: float64,\n",
       "    track_layer_intersections: var * {\n",
       "        layer: string,\n",
       "        X: float64,\n",
       "        Y: float64,\n",
       "        Z: float64,\n",
       "        eta: float64,\n",
       "        phi: float64,\n",
       "        Label: float64\n",
       "    },\n",
       "    total_associated_cell_energy: float64,\n",
       "    associated_cells: var * {\n",
       "        ID: int64,\n",
       "        E: float64,\n",
       "        X: float64,\n",
       "        Y: float64,\n",
       "        Z: float64,\n",
       "        distance_to_track: float64,\n",
       "        eta: float64,\n",
       "        phi: float64,\n",
       "        Total_Truth_Energy: float64,\n",
       "        Fraction_Label: float64,\n",
       "        Total_Label: float64,\n",
       "        cell_Hits_TruthIndices: var * int64,\n",
       "        cell_Hits_TruthEs: var * float64\n",
       "    },\n",
       "    associated_tracks: var * {\n",
       "        trackId: int64,\n",
       "        track_part_Idx: int64,\n",
       "        trackPt: float64,\n",
       "        track_layer_intersections: var * {\n",
       "            layer: string,\n",
       "            X: float64,\n",
       "            Y: float64,\n",
       "            Z: float64,\n",
       "            delta_R_adj: float64,\n",
       "            distance_to_track: float64,\n",
       "            Label: float64\n",
       "        }\n",
       "    }\n",
       "}</pre>"
      ],
      "text/plain": [
       "<Array [[{trackID: 0, ...}, ..., {...}], ...] type='150 * var * {trackID: i...'>"
      ]
     },
     "execution_count": 11,
     "metadata": {},
     "output_type": "execute_result"
    }
   ],
   "source": [
    "def read_parquet(filename):\n",
    "    table = pq.read_table(filename)\n",
    "    ak_array = ak.from_arrow(table)\n",
    "    return ak_array\n",
    "\n",
    "awk_arr = read_parquet(awk_path)\n",
    "awk_arr"
   ]
  },
  {
   "cell_type": "code",
   "execution_count": null,
   "metadata": {},
   "outputs": [],
   "source": []
  }
 ],
 "metadata": {
  "kernelspec": {
   "display_name": "Python 3",
   "language": "python",
   "name": "python3"
  },
  "language_info": {
   "codemirror_mode": {
    "name": "ipython",
    "version": 3
   },
   "file_extension": ".py",
   "mimetype": "text/x-python",
   "name": "python",
   "nbconvert_exporter": "python",
   "pygments_lexer": "ipython3",
   "version": "3.10.12"
  }
 },
 "nbformat": 4,
 "nbformat_minor": 2
}
