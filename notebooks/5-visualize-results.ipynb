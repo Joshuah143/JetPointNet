{
 "cells": [
  {
   "cell_type": "markdown",
   "metadata": {},
   "source": [
    "### Imports etc"
   ]
  },
  {
   "cell_type": "code",
   "execution_count": 1,
   "metadata": {},
   "outputs": [
    {
     "name": "stderr",
     "output_type": "stream",
     "text": [
      "2024-07-30 00:05:38.899020: I tensorflow/core/util/port.cc:113] oneDNN custom operations are on. You may see slightly different numerical results due to floating-point round-off errors from different computation orders. To turn them off, set the environment variable `TF_ENABLE_ONEDNN_OPTS=0`.\n",
      "2024-07-30 00:05:38.952255: E external/local_xla/xla/stream_executor/cuda/cuda_dnn.cc:9373] Unable to register cuDNN factory: Attempting to register factory for plugin cuDNN when one has already been registered\n",
      "2024-07-30 00:05:38.952293: E external/local_xla/xla/stream_executor/cuda/cuda_fft.cc:607] Unable to register cuFFT factory: Attempting to register factory for plugin cuFFT when one has already been registered\n",
      "2024-07-30 00:05:38.953677: E external/local_xla/xla/stream_executor/cuda/cuda_blas.cc:1534] Unable to register cuBLAS factory: Attempting to register factory for plugin cuBLAS when one has already been registered\n",
      "2024-07-30 00:05:38.963737: I tensorflow/core/platform/cpu_feature_guard.cc:183] This TensorFlow binary is optimized to use available CPU instructions in performance-critical operations.\n",
      "To enable the following instructions: SSE3 SSE4.1 SSE4.2 AVX, in other operations, rebuild TensorFlow with the appropriate compiler flags.\n"
     ]
    },
    {
     "name": "stdout",
     "output_type": "stream",
     "text": [
      "Logged in as jhimmens\n"
     ]
    }
   ],
   "source": [
    "import sys\n",
    "from pathlib import Path\n",
    "import pandas as pd\n",
    "import seaborn as sns\n",
    "\n",
    "REPO_PATH = Path.home() / \"workspace/jetpointnet\"\n",
    "SCRIPT_PATH = REPO_PATH / \"python_scripts\"\n",
    "sys.path.append(str(SCRIPT_PATH))\n",
    "\n",
    "import numpy as np\n",
    "import os\n",
    "os.environ[\"CUDA_VISIBLE_DEVICES\"] = ''\n",
    "import matplotlib.pyplot as plt\n",
    "from matplotlib.colors import LogNorm\n",
    "\n",
    "# from mpl_toolkits.axes_grid1 import make_axes_locatable\n",
    "from jets_training.models.JetPointNet import PointNetSegmentation\n",
    "from jets_training.jets_visualize import generate_images_and_metadata\n",
    "from jets_training.jets_train import (\n",
    "    TRAIN_INPUTS,\n",
    "    MAX_SAMPLE_LENGTH,\n",
    "    baseline_configuration,\n",
    "    EXPERIMENT_NAME,\n",
    "    TRAIN_TARGETS\n",
    ")\n",
    "OUTPUT_ACTIVATION_FUNCTION = baseline_configuration['OUTPUT_ACTIVATION_FUNCTION']\n",
    "\n",
    "\n"
   ]
  },
  {
   "cell_type": "markdown",
   "metadata": {},
   "source": [
    "# Generate Event Images"
   ]
  },
  {
   "cell_type": "code",
   "execution_count": 2,
   "metadata": {},
   "outputs": [
    {
     "name": "stderr",
     "output_type": "stream",
     "text": [
      "2024-07-30 00:05:42.111045: E external/local_xla/xla/stream_executor/cuda/cuda_driver.cc:274] failed call to cuInit: CUDA_ERROR_NO_DEVICE: no CUDA-capable device is detected\n",
      "2024-07-30 00:05:42.111083: I external/local_xla/xla/stream_executor/cuda/cuda_diagnostics.cc:129] retrieving CUDA diagnostic information for host: triumf-ml2\n",
      "2024-07-30 00:05:42.111088: I external/local_xla/xla/stream_executor/cuda/cuda_diagnostics.cc:136] hostname: triumf-ml2\n",
      "2024-07-30 00:05:42.111225: I external/local_xla/xla/stream_executor/cuda/cuda_diagnostics.cc:159] libcuda reported version is: INVALID_ARGUMENT: expected %d.%d, %d.%d.%d, or %d.%d.%d.%d form for driver version; got \"1\"\n",
      "2024-07-30 00:05:42.111249: I external/local_xla/xla/stream_executor/cuda/cuda_diagnostics.cc:163] kernel reported version is: 550.90.7\n"
     ]
    },
    {
     "data": {
      "application/vnd.jupyter.widget-view+json": {
       "model_id": "109002bcf4c64782b33f4d3692eaed9e",
       "version_major": 2,
       "version_minor": 0
      },
      "text/plain": [
       "  0%|          | 0/1 [00:00<?, ?it/s]"
      ]
     },
     "metadata": {},
     "output_type": "display_data"
    },
    {
     "name": "stdout",
     "output_type": "stream",
     "text": [
      "rho\n",
      "/fast_scratch_1/atlas/pflow/jhimmens_working_files/pnet_data/processed_files/collected_data/rev_6/SavedNpz/deltaR=0.2_maxLen=800_MaxTrackAtributions=26_EScale=1/val\n"
     ]
    },
    {
     "data": {
      "application/vnd.jupyter.widget-view+json": {
       "model_id": "ad87ca82bfb14b77a0e7ea9a623c9597",
       "version_major": 2,
       "version_minor": 0
      },
      "text/plain": [
       "rho: 0it [00:00, ?it/s]"
      ]
     },
     "metadata": {},
     "output_type": "display_data"
    },
    {
     "name": "stdout",
     "output_type": "stream",
     "text": [
      "/fast_scratch_1/atlas/pflow/jhimmens_working_files/pnet_data/processed_files/collected_data/rev_6/SavedNpz/deltaR=0.2_maxLen=800_MaxTrackAtributions=26_EScale=1/val/rho/user.mswiatlo.40097513._000008.mltree.root_chunk_26_val.parquet.npz\n",
      "5/5 [==============================] - 2s 103ms/step\n",
      "saving: event=000927048_track=000\n",
      "saving: event=000927032_track=000\n",
      "saving: event=000927078_track=000\n",
      "saving: event=000927076_track=000\n",
      "saving: event=000927083_track=000\n",
      "saving: event=000927095_track=000\n",
      "saving: event=000927082_track=000\n",
      "saving: event=000927037_track=000\n",
      "saving: event=000927081_track=000\n",
      "saving: event=000927112_track=000\n",
      "saving: event=000927121_track=000\n",
      "saving: event=000927098_track=000\n",
      "saving: event=000927125_track=000\n",
      "saving: event=000927130_track=000\n",
      "saving: event=000927143_track=000\n",
      "saving: event=000927145_track=000\n",
      "saving: event=000927141_track=000\n",
      "saving: event=000927158_track=000\n",
      "saving: event=000927161_track=000\n",
      "saving: event=000927149_track=000\n",
      "/fast_scratch_1/atlas/pflow/jhimmens_working_files/pnet_data/processed_files/collected_data/rev_6/SavedNpz/deltaR=0.2_maxLen=800_MaxTrackAtributions=26_EScale=1/val/rho/user.mswiatlo.40097513._000014.mltree.root_chunk_1_val.parquet.npz\n",
      "5/5 [==============================] - 1s 96ms/step\n",
      "/fast_scratch_1/atlas/pflow/jhimmens_working_files/pnet_data/processed_files/collected_data/rev_6/SavedNpz/deltaR=0.2_maxLen=800_MaxTrackAtributions=26_EScale=1/val/rho/user.mswiatlo.40097513._000006.mltree.root_chunk_13_val.parquet.npz\n",
      "5/5 [==============================] - 1s 106ms/step\n",
      "/fast_scratch_1/atlas/pflow/jhimmens_working_files/pnet_data/processed_files/collected_data/rev_6/SavedNpz/deltaR=0.2_maxLen=800_MaxTrackAtributions=26_EScale=1/val/rho/user.mswiatlo.40097513._000018.mltree.root_chunk_10_val.parquet.npz\n",
      "5/5 [==============================] - 1s 104ms/step\n",
      "/fast_scratch_1/atlas/pflow/jhimmens_working_files/pnet_data/processed_files/collected_data/rev_6/SavedNpz/deltaR=0.2_maxLen=800_MaxTrackAtributions=26_EScale=1/val/rho/user.mswiatlo.40097513._000018.mltree.root_chunk_11_val.parquet.npz\n",
      "6/6 [==============================] - 1s 108ms/step\n",
      "/fast_scratch_1/atlas/pflow/jhimmens_working_files/pnet_data/processed_files/collected_data/rev_6/SavedNpz/deltaR=0.2_maxLen=800_MaxTrackAtributions=26_EScale=1/val/rho/user.mswiatlo.40097513._000020.mltree.root_chunk_33_val.parquet.npz\n",
      "6/6 [==============================] - 1s 112ms/step\n",
      "/fast_scratch_1/atlas/pflow/jhimmens_working_files/pnet_data/processed_files/collected_data/rev_6/SavedNpz/deltaR=0.2_maxLen=800_MaxTrackAtributions=26_EScale=1/val/rho/user.mswiatlo.40097513._000005.mltree.root_chunk_29_val.parquet.npz\n",
      "5/5 [==============================] - 1s 109ms/step\n",
      "/fast_scratch_1/atlas/pflow/jhimmens_working_files/pnet_data/processed_files/collected_data/rev_6/SavedNpz/deltaR=0.2_maxLen=800_MaxTrackAtributions=26_EScale=1/val/rho/user.mswiatlo.40097513._000005.mltree.root_chunk_30_val.parquet.npz\n",
      "5/5 [==============================] - 1s 119ms/step\n",
      "/fast_scratch_1/atlas/pflow/jhimmens_working_files/pnet_data/processed_files/collected_data/rev_6/SavedNpz/deltaR=0.2_maxLen=800_MaxTrackAtributions=26_EScale=1/val/rho/user.mswiatlo.40097513._000010.mltree.root_chunk_18_val.parquet.npz\n",
      "6/6 [==============================] - 1s 104ms/step\n",
      "/fast_scratch_1/atlas/pflow/jhimmens_working_files/pnet_data/processed_files/collected_data/rev_6/SavedNpz/deltaR=0.2_maxLen=800_MaxTrackAtributions=26_EScale=1/val/rho/user.mswiatlo.40097513._000014.mltree.root_chunk_16_val.parquet.npz\n",
      "5/5 [==============================] - 1s 86ms/step\n",
      "/fast_scratch_1/atlas/pflow/jhimmens_working_files/pnet_data/processed_files/collected_data/rev_6/SavedNpz/deltaR=0.2_maxLen=800_MaxTrackAtributions=26_EScale=1/val/rho/user.mswiatlo.40097513._000001.mltree.root_chunk_37_val.parquet.npz\n",
      "6/6 [==============================] - 1s 91ms/step\n",
      "/fast_scratch_1/atlas/pflow/jhimmens_working_files/pnet_data/processed_files/collected_data/rev_6/SavedNpz/deltaR=0.2_maxLen=800_MaxTrackAtributions=26_EScale=1/val/rho/user.mswiatlo.40097513._000015.mltree.root_chunk_3_val.parquet.npz\n",
      "6/6 [==============================] - 1s 101ms/step\n",
      "/fast_scratch_1/atlas/pflow/jhimmens_working_files/pnet_data/processed_files/collected_data/rev_6/SavedNpz/deltaR=0.2_maxLen=800_MaxTrackAtributions=26_EScale=1/val/rho/user.mswiatlo.40097513._000014.mltree.root_chunk_11_val.parquet.npz\n",
      "5/5 [==============================] - 1s 108ms/step\n",
      "/fast_scratch_1/atlas/pflow/jhimmens_working_files/pnet_data/processed_files/collected_data/rev_6/SavedNpz/deltaR=0.2_maxLen=800_MaxTrackAtributions=26_EScale=1/val/rho/user.mswiatlo.40097513._000010.mltree.root_chunk_35_val.parquet.npz\n",
      "5/5 [==============================] - 1s 112ms/step\n",
      "/fast_scratch_1/atlas/pflow/jhimmens_working_files/pnet_data/processed_files/collected_data/rev_6/SavedNpz/deltaR=0.2_maxLen=800_MaxTrackAtributions=26_EScale=1/val/rho/user.mswiatlo.40097513._000008.mltree.root_chunk_2_val.parquet.npz\n",
      "5/5 [==============================] - 1s 108ms/step\n",
      "/fast_scratch_1/atlas/pflow/jhimmens_working_files/pnet_data/processed_files/collected_data/rev_6/SavedNpz/deltaR=0.2_maxLen=800_MaxTrackAtributions=26_EScale=1/val/rho/user.mswiatlo.40097513._000018.mltree.root_chunk_20_val.parquet.npz\n",
      "5/5 [==============================] - 1s 103ms/step\n",
      "/fast_scratch_1/atlas/pflow/jhimmens_working_files/pnet_data/processed_files/collected_data/rev_6/SavedNpz/deltaR=0.2_maxLen=800_MaxTrackAtributions=26_EScale=1/val/rho/user.mswiatlo.40097513._000010.mltree.root_chunk_33_val.parquet.npz\n",
      "5/5 [==============================] - 1s 106ms/step\n",
      "/fast_scratch_1/atlas/pflow/jhimmens_working_files/pnet_data/processed_files/collected_data/rev_6/SavedNpz/deltaR=0.2_maxLen=800_MaxTrackAtributions=26_EScale=1/val/rho/user.mswiatlo.40097513._000020.mltree.root_chunk_20_val.parquet.npz\n",
      "6/6 [==============================] - 1s 100ms/step\n",
      "/fast_scratch_1/atlas/pflow/jhimmens_working_files/pnet_data/processed_files/collected_data/rev_6/SavedNpz/deltaR=0.2_maxLen=800_MaxTrackAtributions=26_EScale=1/val/rho/user.mswiatlo.40097513._000008.mltree.root_chunk_0_val.parquet.npz\n",
      "5/5 [==============================] - 0s 86ms/step\n",
      "/fast_scratch_1/atlas/pflow/jhimmens_working_files/pnet_data/processed_files/collected_data/rev_6/SavedNpz/deltaR=0.2_maxLen=800_MaxTrackAtributions=26_EScale=1/val/rho/user.mswiatlo.40097513._000006.mltree.root_chunk_7_val.parquet.npz\n",
      "6/6 [==============================] - 1s 89ms/step\n",
      "/fast_scratch_1/atlas/pflow/jhimmens_working_files/pnet_data/processed_files/collected_data/rev_6/SavedNpz/deltaR=0.2_maxLen=800_MaxTrackAtributions=26_EScale=1/val/rho/user.mswiatlo.40097513._000020.mltree.root_chunk_7_val.parquet.npz\n",
      "5/5 [==============================] - 1s 93ms/step\n",
      "/fast_scratch_1/atlas/pflow/jhimmens_working_files/pnet_data/processed_files/collected_data/rev_6/SavedNpz/deltaR=0.2_maxLen=800_MaxTrackAtributions=26_EScale=1/val/rho/user.mswiatlo.40097513._000014.mltree.root_chunk_6_val.parquet.npz\n",
      "5/5 [==============================] - 0s 85ms/step\n",
      "/fast_scratch_1/atlas/pflow/jhimmens_working_files/pnet_data/processed_files/collected_data/rev_6/SavedNpz/deltaR=0.2_maxLen=800_MaxTrackAtributions=26_EScale=1/val/rho/user.mswiatlo.40097513._000007.mltree.root_chunk_34_val.parquet.npz\n",
      "5/5 [==============================] - 1s 68ms/step\n",
      "/fast_scratch_1/atlas/pflow/jhimmens_working_files/pnet_data/processed_files/collected_data/rev_6/SavedNpz/deltaR=0.2_maxLen=800_MaxTrackAtributions=26_EScale=1/val/rho/user.mswiatlo.40097513._000018.mltree.root_chunk_7_val.parquet.npz\n",
      "6/6 [==============================] - 1s 101ms/step\n",
      "/fast_scratch_1/atlas/pflow/jhimmens_working_files/pnet_data/processed_files/collected_data/rev_6/SavedNpz/deltaR=0.2_maxLen=800_MaxTrackAtributions=26_EScale=1/val/rho/user.mswiatlo.40097513._000007.mltree.root_chunk_23_val.parquet.npz\n",
      "5/5 [==============================] - 1s 96ms/step\n",
      "/fast_scratch_1/atlas/pflow/jhimmens_working_files/pnet_data/processed_files/collected_data/rev_6/SavedNpz/deltaR=0.2_maxLen=800_MaxTrackAtributions=26_EScale=1/val/rho/user.mswiatlo.40097513._000008.mltree.root_chunk_33_val.parquet.npz\n",
      "5/5 [==============================] - 1s 115ms/step\n",
      "/fast_scratch_1/atlas/pflow/jhimmens_working_files/pnet_data/processed_files/collected_data/rev_6/SavedNpz/deltaR=0.2_maxLen=800_MaxTrackAtributions=26_EScale=1/val/rho/user.mswiatlo.40097513._000020.mltree.root_chunk_10_val.parquet.npz\n",
      "5/5 [==============================] - 1s 109ms/step\n",
      "/fast_scratch_1/atlas/pflow/jhimmens_working_files/pnet_data/processed_files/collected_data/rev_6/SavedNpz/deltaR=0.2_maxLen=800_MaxTrackAtributions=26_EScale=1/val/rho/user.mswiatlo.40097513._000008.mltree.root_chunk_23_val.parquet.npz\n",
      "5/5 [==============================] - 0s 86ms/step\n",
      "/fast_scratch_1/atlas/pflow/jhimmens_working_files/pnet_data/processed_files/collected_data/rev_6/SavedNpz/deltaR=0.2_maxLen=800_MaxTrackAtributions=26_EScale=1/val/rho/user.mswiatlo.40097513._000004.mltree.root_chunk_5_val.parquet.npz\n",
      "6/6 [==============================] - 1s 84ms/step\n",
      "/fast_scratch_1/atlas/pflow/jhimmens_working_files/pnet_data/processed_files/collected_data/rev_6/SavedNpz/deltaR=0.2_maxLen=800_MaxTrackAtributions=26_EScale=1/val/rho/user.mswiatlo.40097513._000007.mltree.root_chunk_38_val.parquet.npz\n",
      "4/4 [==============================] - 0s 98ms/step\n",
      "/fast_scratch_1/atlas/pflow/jhimmens_working_files/pnet_data/processed_files/collected_data/rev_6/SavedNpz/deltaR=0.2_maxLen=800_MaxTrackAtributions=26_EScale=1/val/rho/user.mswiatlo.40097513._000007.mltree.root_chunk_8_val.parquet.npz\n",
      "6/6 [==============================] - 1s 95ms/step\n",
      "/fast_scratch_1/atlas/pflow/jhimmens_working_files/pnet_data/processed_files/collected_data/rev_6/SavedNpz/deltaR=0.2_maxLen=800_MaxTrackAtributions=26_EScale=1/val/rho/user.mswiatlo.40097513._000001.mltree.root_chunk_2_val.parquet.npz\n",
      "5/5 [==============================] - 1s 98ms/step\n",
      "/fast_scratch_1/atlas/pflow/jhimmens_working_files/pnet_data/processed_files/collected_data/rev_6/SavedNpz/deltaR=0.2_maxLen=800_MaxTrackAtributions=26_EScale=1/val/rho/user.mswiatlo.40097513._000009.mltree.root_chunk_34_val.parquet.npz\n",
      "5/5 [==============================] - 1s 103ms/step\n",
      "/fast_scratch_1/atlas/pflow/jhimmens_working_files/pnet_data/processed_files/collected_data/rev_6/SavedNpz/deltaR=0.2_maxLen=800_MaxTrackAtributions=26_EScale=1/val/rho/user.mswiatlo.40097513._000018.mltree.root_chunk_13_val.parquet.npz\n",
      "5/5 [==============================] - 1s 106ms/step\n",
      "/fast_scratch_1/atlas/pflow/jhimmens_working_files/pnet_data/processed_files/collected_data/rev_6/SavedNpz/deltaR=0.2_maxLen=800_MaxTrackAtributions=26_EScale=1/val/rho/user.mswiatlo.40097513._000014.mltree.root_chunk_17_val.parquet.npz\n",
      "5/5 [==============================] - 1s 101ms/step\n",
      "/fast_scratch_1/atlas/pflow/jhimmens_working_files/pnet_data/processed_files/collected_data/rev_6/SavedNpz/deltaR=0.2_maxLen=800_MaxTrackAtributions=26_EScale=1/val/rho/user.mswiatlo.40097513._000009.mltree.root_chunk_25_val.parquet.npz\n",
      "5/5 [==============================] - 1s 113ms/step\n",
      "/fast_scratch_1/atlas/pflow/jhimmens_working_files/pnet_data/processed_files/collected_data/rev_6/SavedNpz/deltaR=0.2_maxLen=800_MaxTrackAtributions=26_EScale=1/val/rho/user.mswiatlo.40097513._000006.mltree.root_chunk_20_val.parquet.npz\n",
      "5/5 [==============================] - 1s 120ms/step\n",
      "/fast_scratch_1/atlas/pflow/jhimmens_working_files/pnet_data/processed_files/collected_data/rev_6/SavedNpz/deltaR=0.2_maxLen=800_MaxTrackAtributions=26_EScale=1/val/rho/user.mswiatlo.40097513._000010.mltree.root_chunk_13_val.parquet.npz\n",
      "5/5 [==============================] - 1s 104ms/step\n",
      "/fast_scratch_1/atlas/pflow/jhimmens_working_files/pnet_data/processed_files/collected_data/rev_6/SavedNpz/deltaR=0.2_maxLen=800_MaxTrackAtributions=26_EScale=1/val/rho/user.mswiatlo.40097513._000015.mltree.root_chunk_15_val.parquet.npz\n",
      "5/5 [==============================] - 1s 112ms/step\n",
      "/fast_scratch_1/atlas/pflow/jhimmens_working_files/pnet_data/processed_files/collected_data/rev_6/SavedNpz/deltaR=0.2_maxLen=800_MaxTrackAtributions=26_EScale=1/val/rho/user.mswiatlo.40097513._000014.mltree.root_chunk_15_val.parquet.npz\n",
      "5/5 [==============================] - 1s 110ms/step\n",
      "/fast_scratch_1/atlas/pflow/jhimmens_working_files/pnet_data/processed_files/collected_data/rev_6/SavedNpz/deltaR=0.2_maxLen=800_MaxTrackAtributions=26_EScale=1/val/rho/user.mswiatlo.40097513._000010.mltree.root_chunk_6_val.parquet.npz\n",
      "5/5 [==============================] - 1s 113ms/step\n",
      "/fast_scratch_1/atlas/pflow/jhimmens_working_files/pnet_data/processed_files/collected_data/rev_6/SavedNpz/deltaR=0.2_maxLen=800_MaxTrackAtributions=26_EScale=1/val/rho/user.mswiatlo.40097513._000014.mltree.root_chunk_19_val.parquet.npz\n",
      "6/6 [==============================] - 1s 101ms/step\n",
      "/fast_scratch_1/atlas/pflow/jhimmens_working_files/pnet_data/processed_files/collected_data/rev_6/SavedNpz/deltaR=0.2_maxLen=800_MaxTrackAtributions=26_EScale=1/val/rho/user.mswiatlo.40097513._000010.mltree.root_chunk_15_val.parquet.npz\n",
      "5/5 [==============================] - 1s 97ms/step\n",
      "/fast_scratch_1/atlas/pflow/jhimmens_working_files/pnet_data/processed_files/collected_data/rev_6/SavedNpz/deltaR=0.2_maxLen=800_MaxTrackAtributions=26_EScale=1/val/rho/user.mswiatlo.40097513._000006.mltree.root_chunk_15_val.parquet.npz\n",
      "6/6 [==============================] - 1s 83ms/step\n",
      "/fast_scratch_1/atlas/pflow/jhimmens_working_files/pnet_data/processed_files/collected_data/rev_6/SavedNpz/deltaR=0.2_maxLen=800_MaxTrackAtributions=26_EScale=1/val/rho/user.mswiatlo.40097513._000004.mltree.root_chunk_32_val.parquet.npz\n",
      "5/5 [==============================] - 1s 92ms/step\n",
      "/fast_scratch_1/atlas/pflow/jhimmens_working_files/pnet_data/processed_files/collected_data/rev_6/SavedNpz/deltaR=0.2_maxLen=800_MaxTrackAtributions=26_EScale=1/val/rho/user.mswiatlo.40097513._000009.mltree.root_chunk_3_val.parquet.npz\n",
      "5/5 [==============================] - 1s 96ms/step\n",
      "/fast_scratch_1/atlas/pflow/jhimmens_working_files/pnet_data/processed_files/collected_data/rev_6/SavedNpz/deltaR=0.2_maxLen=800_MaxTrackAtributions=26_EScale=1/val/rho/user.mswiatlo.40097513._000001.mltree.root_chunk_15_val.parquet.npz\n",
      "6/6 [==============================] - 1s 80ms/step\n",
      "/fast_scratch_1/atlas/pflow/jhimmens_working_files/pnet_data/processed_files/collected_data/rev_6/SavedNpz/deltaR=0.2_maxLen=800_MaxTrackAtributions=26_EScale=1/val/rho/user.mswiatlo.40097513._000010.mltree.root_chunk_9_val.parquet.npz\n",
      "5/5 [==============================] - 0s 91ms/step\n",
      "/fast_scratch_1/atlas/pflow/jhimmens_working_files/pnet_data/processed_files/collected_data/rev_6/SavedNpz/deltaR=0.2_maxLen=800_MaxTrackAtributions=26_EScale=1/val/rho/user.mswiatlo.40097513._000007.mltree.root_chunk_32_val.parquet.npz\n",
      "5/5 [==============================] - 0s 82ms/step\n",
      "/fast_scratch_1/atlas/pflow/jhimmens_working_files/pnet_data/processed_files/collected_data/rev_6/SavedNpz/deltaR=0.2_maxLen=800_MaxTrackAtributions=26_EScale=1/val/rho/user.mswiatlo.40097513._000010.mltree.root_chunk_31_val.parquet.npz\n",
      "5/5 [==============================] - 0s 82ms/step\n",
      "/fast_scratch_1/atlas/pflow/jhimmens_working_files/pnet_data/processed_files/collected_data/rev_6/SavedNpz/deltaR=0.2_maxLen=800_MaxTrackAtributions=26_EScale=1/val/rho/user.mswiatlo.40097513._000020.mltree.root_chunk_37_val.parquet.npz\n",
      "6/6 [==============================] - 1s 87ms/step\n",
      "/fast_scratch_1/atlas/pflow/jhimmens_working_files/pnet_data/processed_files/collected_data/rev_6/SavedNpz/deltaR=0.2_maxLen=800_MaxTrackAtributions=26_EScale=1/val/rho/user.mswiatlo.40097513._000004.mltree.root_chunk_35_val.parquet.npz\n",
      "5/5 [==============================] - 0s 85ms/step\n",
      "/fast_scratch_1/atlas/pflow/jhimmens_working_files/pnet_data/processed_files/collected_data/rev_6/SavedNpz/deltaR=0.2_maxLen=800_MaxTrackAtributions=26_EScale=1/val/rho/user.mswiatlo.40097513._000014.mltree.root_chunk_4_val.parquet.npz\n",
      "6/6 [==============================] - 1s 104ms/step\n",
      "/fast_scratch_1/atlas/pflow/jhimmens_working_files/pnet_data/processed_files/collected_data/rev_6/SavedNpz/deltaR=0.2_maxLen=800_MaxTrackAtributions=26_EScale=1/val/rho/user.mswiatlo.40097513._000010.mltree.root_chunk_34_val.parquet.npz\n",
      "5/5 [==============================] - 1s 114ms/step\n",
      "/fast_scratch_1/atlas/pflow/jhimmens_working_files/pnet_data/processed_files/collected_data/rev_6/SavedNpz/deltaR=0.2_maxLen=800_MaxTrackAtributions=26_EScale=1/val/rho/user.mswiatlo.40097513._000001.mltree.root_chunk_9_val.parquet.npz\n",
      "5/5 [==============================] - 1s 114ms/step\n",
      "/fast_scratch_1/atlas/pflow/jhimmens_working_files/pnet_data/processed_files/collected_data/rev_6/SavedNpz/deltaR=0.2_maxLen=800_MaxTrackAtributions=26_EScale=1/val/rho/user.mswiatlo.40097513._000005.mltree.root_chunk_33_val.parquet.npz\n",
      "5/5 [==============================] - 1s 108ms/step\n",
      "/fast_scratch_1/atlas/pflow/jhimmens_working_files/pnet_data/processed_files/collected_data/rev_6/SavedNpz/deltaR=0.2_maxLen=800_MaxTrackAtributions=26_EScale=1/val/rho/user.mswiatlo.40097513._000006.mltree.root_chunk_8_val.parquet.npz\n",
      "5/5 [==============================] - 0s 76ms/step\n",
      "/fast_scratch_1/atlas/pflow/jhimmens_working_files/pnet_data/processed_files/collected_data/rev_6/SavedNpz/deltaR=0.2_maxLen=800_MaxTrackAtributions=26_EScale=1/val/rho/user.mswiatlo.40097513._000004.mltree.root_chunk_25_val.parquet.npz\n",
      "5/5 [==============================] - 0s 87ms/step\n",
      "/fast_scratch_1/atlas/pflow/jhimmens_working_files/pnet_data/processed_files/collected_data/rev_6/SavedNpz/deltaR=0.2_maxLen=800_MaxTrackAtributions=26_EScale=1/val/rho/user.mswiatlo.40097513._000020.mltree.root_chunk_11_val.parquet.npz\n",
      "5/5 [==============================] - 0s 88ms/step\n",
      "/fast_scratch_1/atlas/pflow/jhimmens_working_files/pnet_data/processed_files/collected_data/rev_6/SavedNpz/deltaR=0.2_maxLen=800_MaxTrackAtributions=26_EScale=1/val/rho/user.mswiatlo.40097513._000004.mltree.root_chunk_30_val.parquet.npz\n",
      "6/6 [==============================] - 1s 80ms/step\n",
      "/fast_scratch_1/atlas/pflow/jhimmens_working_files/pnet_data/processed_files/collected_data/rev_6/SavedNpz/deltaR=0.2_maxLen=800_MaxTrackAtributions=26_EScale=1/val/rho/user.mswiatlo.40097513._000018.mltree.root_chunk_0_val.parquet.npz\n",
      "5/5 [==============================] - 1s 96ms/step\n",
      "/fast_scratch_1/atlas/pflow/jhimmens_working_files/pnet_data/processed_files/collected_data/rev_6/SavedNpz/deltaR=0.2_maxLen=800_MaxTrackAtributions=26_EScale=1/val/rho/user.mswiatlo.40097513._000009.mltree.root_chunk_1_val.parquet.npz\n",
      "6/6 [==============================] - 1s 78ms/step\n",
      "/fast_scratch_1/atlas/pflow/jhimmens_working_files/pnet_data/processed_files/collected_data/rev_6/SavedNpz/deltaR=0.2_maxLen=800_MaxTrackAtributions=26_EScale=1/val/rho/user.mswiatlo.40097513._000010.mltree.root_chunk_3_val.parquet.npz\n",
      "5/5 [==============================] - 0s 88ms/step\n",
      "/fast_scratch_1/atlas/pflow/jhimmens_working_files/pnet_data/processed_files/collected_data/rev_6/SavedNpz/deltaR=0.2_maxLen=800_MaxTrackAtributions=26_EScale=1/val/rho/user.mswiatlo.40097513._000008.mltree.root_chunk_17_val.parquet.npz\n",
      "5/5 [==============================] - 0s 87ms/step\n",
      "/fast_scratch_1/atlas/pflow/jhimmens_working_files/pnet_data/processed_files/collected_data/rev_6/SavedNpz/deltaR=0.2_maxLen=800_MaxTrackAtributions=26_EScale=1/val/rho/user.mswiatlo.40097513._000004.mltree.root_chunk_24_val.parquet.npz\n",
      "6/6 [==============================] - 1s 92ms/step\n",
      "/fast_scratch_1/atlas/pflow/jhimmens_working_files/pnet_data/processed_files/collected_data/rev_6/SavedNpz/deltaR=0.2_maxLen=800_MaxTrackAtributions=26_EScale=1/val/rho/user.mswiatlo.40097513._000020.mltree.root_chunk_23_val.parquet.npz\n",
      "5/5 [==============================] - 1s 97ms/step\n",
      "/fast_scratch_1/atlas/pflow/jhimmens_working_files/pnet_data/processed_files/collected_data/rev_6/SavedNpz/deltaR=0.2_maxLen=800_MaxTrackAtributions=26_EScale=1/val/rho/user.mswiatlo.40097513._000018.mltree.root_chunk_36_val.parquet.npz\n"
     ]
    }
   ],
   "source": [
    "model_path = \"/home/jhimmens/workspace/jetpointnet/models/rev_6/collected_data/PointNet_epoch=10_name=distinctive-star-975.keras\"\n",
    "sets_to_visualize = [\"rho\"]\n",
    "max_events_per_set = 10_000\n",
    "max_images_per_set = 20\n",
    "\n",
    "MODEL_NAME = model_path.split('/')[-1]\n",
    "VISUAL_PATH = REPO_PATH / \"visualizations\" / EXPERIMENT_NAME / MODEL_NAME\n",
    "\n",
    "model = PointNetSegmentation(MAX_SAMPLE_LENGTH, \n",
    "                             num_features=len(TRAIN_INPUTS), \n",
    "                             num_classes=len(TRAIN_TARGETS), \n",
    "                             output_activation_function=OUTPUT_ACTIVATION_FUNCTION,\n",
    "                             model_version=1)\n",
    "\n",
    "model.load_weights(model_path)\n",
    "\n",
    "generate_images_and_metadata(sets_to_visualize, model, max_events_per_set, max_images_per_set, VISUAL_PATH)"
   ]
  }
 ],
 "metadata": {
  "kernelspec": {
   "display_name": "Python 3",
   "language": "python",
   "name": "python3"
  },
  "language_info": {
   "codemirror_mode": {
    "name": "ipython",
    "version": 3
   },
   "file_extension": ".py",
   "mimetype": "text/x-python",
   "name": "python",
   "nbconvert_exporter": "python",
   "pygments_lexer": "ipython3",
   "version": "3.10.12"
  }
 },
 "nbformat": 4,
 "nbformat_minor": 2
}
