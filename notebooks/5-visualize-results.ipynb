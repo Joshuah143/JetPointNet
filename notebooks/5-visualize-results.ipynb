{
 "cells": [
  {
   "cell_type": "markdown",
   "metadata": {},
   "source": [
    "### Imports etc"
   ]
  },
  {
   "cell_type": "code",
   "execution_count": 1,
   "metadata": {},
   "outputs": [
    {
     "name": "stderr",
     "output_type": "stream",
     "text": [
      "2024-07-09 20:14:27.548569: I tensorflow/core/util/port.cc:113] oneDNN custom operations are on. You may see slightly different numerical results due to floating-point round-off errors from different computation orders. To turn them off, set the environment variable `TF_ENABLE_ONEDNN_OPTS=0`.\n",
      "2024-07-09 20:14:28.803892: E external/local_xla/xla/stream_executor/cuda/cuda_dnn.cc:9373] Unable to register cuDNN factory: Attempting to register factory for plugin cuDNN when one has already been registered\n",
      "2024-07-09 20:14:28.806400: E external/local_xla/xla/stream_executor/cuda/cuda_fft.cc:607] Unable to register cuFFT factory: Attempting to register factory for plugin cuFFT when one has already been registered\n",
      "2024-07-09 20:14:29.090035: E external/local_xla/xla/stream_executor/cuda/cuda_blas.cc:1534] Unable to register cuBLAS factory: Attempting to register factory for plugin cuBLAS when one has already been registered\n",
      "2024-07-09 20:14:29.599783: I tensorflow/core/platform/cpu_feature_guard.cc:183] This TensorFlow binary is optimized to use available CPU instructions in performance-critical operations.\n",
      "To enable the following instructions: SSE3 SSE4.1 SSE4.2 AVX, in other operations, rebuild TensorFlow with the appropriate compiler flags.\n"
     ]
    },
    {
     "name": "stdout",
     "output_type": "stream",
     "text": [
      "Logged in as jhimmens\n"
     ]
    },
    {
     "name": "stderr",
     "output_type": "stream",
     "text": [
      "2024-07-09 20:14:44.451888: I tensorflow/core/common_runtime/gpu/gpu_device.cc:1926] Created device /job:localhost/replica:0/task:0/device:GPU:0 with 46339 MB memory:  -> device: 0, name: NVIDIA RTX A6000, pci bus id: 0000:1b:00.0, compute capability: 8.6\n",
      "2024-07-09 20:14:44.490295: I tensorflow/core/common_runtime/gpu/gpu_device.cc:1926] Created device /job:localhost/replica:0/task:0/device:GPU:1 with 1290 MB memory:  -> device: 1, name: NVIDIA RTX A6000, pci bus id: 0000:1c:00.0, compute capability: 8.6\n",
      "2024-07-09 20:14:44.510288: I tensorflow/core/common_runtime/gpu/gpu_device.cc:1926] Created device /job:localhost/replica:0/task:0/device:GPU:2 with 4410 MB memory:  -> device: 2, name: NVIDIA RTX A6000, pci bus id: 0000:4f:00.0, compute capability: 8.6\n",
      "2024-07-09 20:14:44.530244: I tensorflow/core/common_runtime/gpu/gpu_device.cc:1926] Created device /job:localhost/replica:0/task:0/device:GPU:3 with 1546 MB memory:  -> device: 3, name: NVIDIA RTX A6000, pci bus id: 0000:50:00.0, compute capability: 8.6\n",
      "2024-07-09 20:14:44.550259: I tensorflow/core/common_runtime/gpu/gpu_device.cc:1926] Created device /job:localhost/replica:0/task:0/device:GPU:4 with 35135 MB memory:  -> device: 4, name: NVIDIA RTX A6000, pci bus id: 0000:9c:00.0, compute capability: 8.6\n",
      "2024-07-09 20:14:44.566226: I tensorflow/core/common_runtime/gpu/gpu_device.cc:1926] Created device /job:localhost/replica:0/task:0/device:GPU:5 with 1290 MB memory:  -> device: 5, name: NVIDIA RTX A6000, pci bus id: 0000:9d:00.0, compute capability: 8.6\n"
     ]
    }
   ],
   "source": [
    "import sys\n",
    "from pathlib import Path\n",
    "import pandas as pd\n",
    "import seaborn as sns\n",
    "\n",
    "REPO_PATH = Path.home() / \"workspace/jetpointnet\"\n",
    "SCRIPT_PATH = REPO_PATH / \"python_scripts\"\n",
    "sys.path.append(str(SCRIPT_PATH))\n",
    "\n",
    "import numpy as np\n",
    "import os\n",
    "os.environ[\"CUDA_VISIBLE_DEVICES\"] = ''\n",
    "import tf\n",
    "import matplotlib.pyplot as plt\n",
    "from matplotlib.colors import LogNorm\n",
    "\n",
    "# from mpl_toolkits.axes_grid1 import make_axes_locatable\n",
    "from jets_training.models.JetPointNet import PointNetSegmentation\n",
    "from jets_training.jets_visualize import generate_images_and_metadata\n",
    "from jets_training.jets_train import (\n",
    "    TRAIN_INPUTS,\n",
    "    MAX_SAMPLE_LENGTH,\n",
    "    baseline_configuration,\n",
    "    EXPERIMENT_NAME,\n",
    ")\n",
    "OUTPUT_ACTIVATION_FUNCTION = baseline_configuration['OUTPUT_ACTIVATION_FUNCTION']\n",
    "\n",
    "\n"
   ]
  },
  {
   "cell_type": "markdown",
   "metadata": {},
   "source": [
    "# Generate Event Images"
   ]
  },
  {
   "cell_type": "code",
   "execution_count": null,
   "metadata": {},
   "outputs": [],
   "source": [
    "model_path = \"/home/jhimmens/workspace/jetpointnet/models/rev_2/collected_data/PointNet_best_name=rosy-wood-862.keras\"\n",
    "sets_to_visualize = [\"JZ2\", \"JZ3\", \"JZ4\"]\n",
    "max_file_per_set = 2\n",
    "max_images_per_set = 10\n",
    "\n",
    "MODEL_NAME = model_path.split('/')[-1]\n",
    "VISUAL_PATH = REPO_PATH / \"visualizations\" / EXPERIMENT_NAME / MODEL_NAME\n",
    "\n",
    "model = PointNetSegmentation(MAX_SAMPLE_LENGTH, \n",
    "                             num_features=len(TRAIN_INPUTS), \n",
    "                             num_classes=1, \n",
    "                             output_activation_function=OUTPUT_ACTIVATION_FUNCTION,\n",
    "                             model_version=1)\n",
    "\n",
    "model.load_weights(model_path)\n",
    "\n",
    "generate_images_and_metadata(sets_to_visualize, model, max_file_per_set, max_images_per_set, VISUAL_PATH)"
   ]
  }
 ],
 "metadata": {
  "kernelspec": {
   "display_name": "Python 3",
   "language": "python",
   "name": "python3"
  },
  "language_info": {
   "codemirror_mode": {
    "name": "ipython",
    "version": 3
   },
   "file_extension": ".py",
   "mimetype": "text/x-python",
   "name": "python",
   "nbconvert_exporter": "python",
   "pygments_lexer": "ipython3",
   "version": "3.10.12"
  }
 },
 "nbformat": 4,
 "nbformat_minor": 2
}
