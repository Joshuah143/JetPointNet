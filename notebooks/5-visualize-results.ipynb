{
 "cells": [
  {
   "cell_type": "markdown",
   "metadata": {},
   "source": [
    "### Imports etc"
   ]
  },
  {
   "cell_type": "code",
   "execution_count": 1,
   "metadata": {},
   "outputs": [
    {
     "name": "stderr",
     "output_type": "stream",
     "text": [
      "2024-07-18 20:37:56.322818: I tensorflow/core/util/port.cc:113] oneDNN custom operations are on. You may see slightly different numerical results due to floating-point round-off errors from different computation orders. To turn them off, set the environment variable `TF_ENABLE_ONEDNN_OPTS=0`.\n",
      "2024-07-18 20:37:57.645216: E external/local_xla/xla/stream_executor/cuda/cuda_dnn.cc:9373] Unable to register cuDNN factory: Attempting to register factory for plugin cuDNN when one has already been registered\n",
      "2024-07-18 20:37:57.647804: E external/local_xla/xla/stream_executor/cuda/cuda_fft.cc:607] Unable to register cuFFT factory: Attempting to register factory for plugin cuFFT when one has already been registered\n",
      "2024-07-18 20:37:57.932735: E external/local_xla/xla/stream_executor/cuda/cuda_blas.cc:1534] Unable to register cuBLAS factory: Attempting to register factory for plugin cuBLAS when one has already been registered\n",
      "2024-07-18 20:37:58.472771: I tensorflow/core/platform/cpu_feature_guard.cc:183] This TensorFlow binary is optimized to use available CPU instructions in performance-critical operations.\n",
      "To enable the following instructions: SSE3 SSE4.1 SSE4.2 AVX, in other operations, rebuild TensorFlow with the appropriate compiler flags.\n"
     ]
    },
    {
     "name": "stdout",
     "output_type": "stream",
     "text": [
      "Logged in as jhimmens\n"
     ]
    }
   ],
   "source": [
    "import sys\n",
    "from pathlib import Path\n",
    "import pandas as pd\n",
    "import seaborn as sns\n",
    "\n",
    "REPO_PATH = Path.home() / \"workspace/jetpointnet\"\n",
    "SCRIPT_PATH = REPO_PATH / \"python_scripts\"\n",
    "sys.path.append(str(SCRIPT_PATH))\n",
    "\n",
    "import numpy as np\n",
    "import os\n",
    "os.environ[\"CUDA_VISIBLE_DEVICES\"] = ''\n",
    "import matplotlib.pyplot as plt\n",
    "from matplotlib.colors import LogNorm\n",
    "\n",
    "# from mpl_toolkits.axes_grid1 import make_axes_locatable\n",
    "from jets_training.models.JetPointNet import PointNetSegmentation\n",
    "from jets_training.jets_visualize import generate_images_and_metadata\n",
    "from jets_training.jets_train import (\n",
    "    TRAIN_INPUTS,\n",
    "    MAX_SAMPLE_LENGTH,\n",
    "    baseline_configuration,\n",
    "    EXPERIMENT_NAME,\n",
    ")\n",
    "OUTPUT_ACTIVATION_FUNCTION = baseline_configuration['OUTPUT_ACTIVATION_FUNCTION']\n",
    "\n",
    "\n"
   ]
  },
  {
   "cell_type": "markdown",
   "metadata": {},
   "source": [
    "# Generate Event Images"
   ]
  },
  {
   "cell_type": "code",
   "execution_count": 2,
   "metadata": {},
   "outputs": [
    {
     "name": "stderr",
     "output_type": "stream",
     "text": [
      "2024-07-18 20:38:10.049496: E external/local_xla/xla/stream_executor/cuda/cuda_driver.cc:274] failed call to cuInit: CUDA_ERROR_NO_DEVICE: no CUDA-capable device is detected\n",
      "2024-07-18 20:38:10.049643: I external/local_xla/xla/stream_executor/cuda/cuda_diagnostics.cc:129] retrieving CUDA diagnostic information for host: triumf-ml2\n",
      "2024-07-18 20:38:10.049656: I external/local_xla/xla/stream_executor/cuda/cuda_diagnostics.cc:136] hostname: triumf-ml2\n",
      "2024-07-18 20:38:10.049922: I external/local_xla/xla/stream_executor/cuda/cuda_diagnostics.cc:159] libcuda reported version is: INVALID_ARGUMENT: expected %d.%d, %d.%d.%d, or %d.%d.%d.%d form for driver version; got \"1\"\n",
      "2024-07-18 20:38:10.050015: I external/local_xla/xla/stream_executor/cuda/cuda_diagnostics.cc:163] kernel reported version is: 550.67.0\n"
     ]
    },
    {
     "data": {
      "application/vnd.jupyter.widget-view+json": {
       "model_id": "febe7afc2ee14bde916b2f4d7abe7eaa",
       "version_major": 2,
       "version_minor": 0
      },
      "text/plain": [
       "  0%|          | 0/6 [00:00<?, ?it/s]"
      ]
     },
     "metadata": {},
     "output_type": "display_data"
    },
    {
     "name": "stdout",
     "output_type": "stream",
     "text": [
      "JZ1\n",
      "/fast_scratch_1/atlas/pflow/jhimmens_working_files/pnet_data/processed_files/collected_data/rev_4/SavedNpz/deltaR=0.2_maxLen=800_EScale=1/val\n"
     ]
    },
    {
     "data": {
      "application/vnd.jupyter.widget-view+json": {
       "model_id": "71c01ebf8b234d14b19c1e27349997b7",
       "version_major": 2,
       "version_minor": 0
      },
      "text/plain": [
       "JZ1: 0it [00:00, ?it/s]"
      ]
     },
     "metadata": {},
     "output_type": "display_data"
    },
    {
     "name": "stdout",
     "output_type": "stream",
     "text": [
      "JZ2\n",
      "/fast_scratch_1/atlas/pflow/jhimmens_working_files/pnet_data/processed_files/collected_data/rev_4/SavedNpz/deltaR=0.2_maxLen=800_EScale=1/val\n"
     ]
    },
    {
     "data": {
      "application/vnd.jupyter.widget-view+json": {
       "model_id": "9163061315804cffb5cc626b0886187f",
       "version_major": 2,
       "version_minor": 0
      },
      "text/plain": [
       "JZ2: 0it [00:00, ?it/s]"
      ]
     },
     "metadata": {},
     "output_type": "display_data"
    },
    {
     "name": "stdout",
     "output_type": "stream",
     "text": [
      "/fast_scratch_1/atlas/pflow/jhimmens_working_files/pnet_data/processed_files/collected_data/rev_4/SavedNpz/deltaR=0.2_maxLen=800_EScale=1/val/JZ2/user.mswiatlo.39955678._000956.mltree.root_chunk_0_val.parquet.npz\n",
      "93/93 [==============================] - 22s 204ms/step\n",
      "saving: event=000052148_track=006\n",
      "saving: event=000052148_track=007\n",
      "saving: event=000052148_track=008\n",
      "saving: event=000052148_track=009\n",
      "saving: event=000052148_track=011\n",
      "saving: event=000052148_track=012\n",
      "saving: event=000052148_track=013\n",
      "saving: event=000052148_track=015\n",
      "saving: event=000052148_track=016\n",
      "saving: event=000052148_track=017\n",
      "/fast_scratch_1/atlas/pflow/jhimmens_working_files/pnet_data/processed_files/collected_data/rev_4/SavedNpz/deltaR=0.2_maxLen=800_EScale=1/val/JZ2/user.mswiatlo.39955678._000590.mltree.root_chunk_0_val.parquet.npz\n",
      "90/90 [==============================] - 17s 185ms/step\n",
      "/fast_scratch_1/atlas/pflow/jhimmens_working_files/pnet_data/processed_files/collected_data/rev_4/SavedNpz/deltaR=0.2_maxLen=800_EScale=1/val/JZ2/user.mswiatlo.39955678._000062.mltree.root_chunk_0_val.parquet.npz\n",
      "82/82 [==============================] - 15s 186ms/step\n",
      "/fast_scratch_1/atlas/pflow/jhimmens_working_files/pnet_data/processed_files/collected_data/rev_4/SavedNpz/deltaR=0.2_maxLen=800_EScale=1/val/JZ2/user.mswiatlo.39955678._000624.mltree.root_chunk_0_val.parquet.npz\n",
      "84/84 [==============================] - 17s 199ms/step\n",
      "/fast_scratch_1/atlas/pflow/jhimmens_working_files/pnet_data/processed_files/collected_data/rev_4/SavedNpz/deltaR=0.2_maxLen=800_EScale=1/val/JZ2/user.mswiatlo.39955678._000077.mltree.root_chunk_0_val.parquet.npz\n",
      "JZ3\n",
      "/fast_scratch_1/atlas/pflow/jhimmens_working_files/pnet_data/processed_files/collected_data/rev_4/SavedNpz/deltaR=0.2_maxLen=800_EScale=1/val\n"
     ]
    },
    {
     "data": {
      "application/vnd.jupyter.widget-view+json": {
       "model_id": "7839d9ed9f834c5cac82ff89834fd502",
       "version_major": 2,
       "version_minor": 0
      },
      "text/plain": [
       "JZ3: 0it [00:00, ?it/s]"
      ]
     },
     "metadata": {},
     "output_type": "display_data"
    },
    {
     "name": "stdout",
     "output_type": "stream",
     "text": [
      "/fast_scratch_1/atlas/pflow/jhimmens_working_files/pnet_data/processed_files/collected_data/rev_4/SavedNpz/deltaR=0.2_maxLen=800_EScale=1/val/JZ3/user.mswiatlo.39955704._000143.mltree.root_chunk_0_val.parquet.npz\n",
      "152/152 [==============================] - 25s 164ms/step\n",
      "saving: event=000014243_track=000\n",
      "saving: event=000014243_track=001\n",
      "saving: event=000014243_track=003\n",
      "saving: event=000014243_track=004\n",
      "saving: event=000014243_track=005\n",
      "saving: event=000014243_track=006\n",
      "saving: event=000014243_track=007\n",
      "saving: event=000014243_track=008\n",
      "saving: event=000014243_track=009\n",
      "saving: event=000014243_track=010\n",
      "/fast_scratch_1/atlas/pflow/jhimmens_working_files/pnet_data/processed_files/collected_data/rev_4/SavedNpz/deltaR=0.2_maxLen=800_EScale=1/val/JZ3/user.mswiatlo.39955704._000025.mltree.root_chunk_0_val.parquet.npz\n",
      "161/161 [==============================] - 32s 197ms/step\n",
      "/fast_scratch_1/atlas/pflow/jhimmens_working_files/pnet_data/processed_files/collected_data/rev_4/SavedNpz/deltaR=0.2_maxLen=800_EScale=1/val/JZ3/user.mswiatlo.39955704._000095.mltree.root_chunk_0_val.parquet.npz\n",
      "161/161 [==============================] - 31s 193ms/step\n",
      "/fast_scratch_1/atlas/pflow/jhimmens_working_files/pnet_data/processed_files/collected_data/rev_4/SavedNpz/deltaR=0.2_maxLen=800_EScale=1/val/JZ3/user.mswiatlo.39955704._000365.mltree.root_chunk_0_val.parquet.npz\n",
      "JZ4\n",
      "/fast_scratch_1/atlas/pflow/jhimmens_working_files/pnet_data/processed_files/collected_data/rev_4/SavedNpz/deltaR=0.2_maxLen=800_EScale=1/val\n"
     ]
    },
    {
     "data": {
      "application/vnd.jupyter.widget-view+json": {
       "model_id": "1a5e42d284c14739b257037cb240edee",
       "version_major": 2,
       "version_minor": 0
      },
      "text/plain": [
       "JZ4: 0it [00:00, ?it/s]"
      ]
     },
     "metadata": {},
     "output_type": "display_data"
    },
    {
     "name": "stdout",
     "output_type": "stream",
     "text": [
      "/fast_scratch_1/atlas/pflow/jhimmens_working_files/pnet_data/processed_files/collected_data/rev_4/SavedNpz/deltaR=0.2_maxLen=800_EScale=1/val/JZ4/user.mswiatlo.39955735._000005.mltree.root_chunk_0_val.parquet.npz\n",
      "224/224 [==============================] - 46s 205ms/step\n",
      "saving: event=000004111_track=000\n",
      "saving: event=000004111_track=001\n",
      "saving: event=000004111_track=002\n",
      "saving: event=000004111_track=003\n",
      "saving: event=000004111_track=004\n",
      "saving: event=000004111_track=005\n",
      "saving: event=000004111_track=006\n",
      "saving: event=000004111_track=007\n",
      "saving: event=000004111_track=008\n",
      "saving: event=000004111_track=009\n",
      "/fast_scratch_1/atlas/pflow/jhimmens_working_files/pnet_data/processed_files/collected_data/rev_4/SavedNpz/deltaR=0.2_maxLen=800_EScale=1/val/JZ4/user.mswiatlo.39955735._000543.mltree.root_chunk_0_val.parquet.npz\n",
      "232/232 [==============================] - 51s 221ms/step\n",
      "/fast_scratch_1/atlas/pflow/jhimmens_working_files/pnet_data/processed_files/collected_data/rev_4/SavedNpz/deltaR=0.2_maxLen=800_EScale=1/val/JZ4/user.mswiatlo.39955735._000762.mltree.root_chunk_0_val.parquet.npz\n",
      "rho\n",
      "/fast_scratch_1/atlas/pflow/jhimmens_working_files/pnet_data/processed_files/collected_data/rev_4/SavedNpz/deltaR=0.2_maxLen=800_EScale=1/val\n"
     ]
    },
    {
     "data": {
      "application/vnd.jupyter.widget-view+json": {
       "model_id": "a042956e39f34e039b23d7ffcf698a42",
       "version_major": 2,
       "version_minor": 0
      },
      "text/plain": [
       "rho: 0it [00:00, ?it/s]"
      ]
     },
     "metadata": {},
     "output_type": "display_data"
    },
    {
     "name": "stdout",
     "output_type": "stream",
     "text": [
      "/fast_scratch_1/atlas/pflow/jhimmens_working_files/pnet_data/processed_files/collected_data/rev_4/SavedNpz/deltaR=0.2_maxLen=800_EScale=1/val/rho/user.mswiatlo.40097513._000008.mltree.root_chunk_26_val.parquet.npz\n",
      "7/7 [==============================] - 1s 172ms/step\n",
      "saving: event=000927048_track=000\n",
      "saving: event=000927032_track=000\n",
      "saving: event=000927078_track=000\n",
      "saving: event=000927076_track=000\n",
      "saving: event=000927083_track=000\n",
      "saving: event=000927095_track=000\n",
      "saving: event=000927082_track=000\n",
      "saving: event=000927099_track=000\n",
      "saving: event=000927099_track=001\n",
      "saving: event=000927099_track=002\n",
      "/fast_scratch_1/atlas/pflow/jhimmens_working_files/pnet_data/processed_files/collected_data/rev_4/SavedNpz/deltaR=0.2_maxLen=800_EScale=1/val/rho/user.mswiatlo.40097513._000014.mltree.root_chunk_1_val.parquet.npz\n",
      "7/7 [==============================] - 2s 196ms/step\n",
      "/fast_scratch_1/atlas/pflow/jhimmens_working_files/pnet_data/processed_files/collected_data/rev_4/SavedNpz/deltaR=0.2_maxLen=800_EScale=1/val/rho/user.mswiatlo.40097513._000006.mltree.root_chunk_13_val.parquet.npz\n",
      "7/7 [==============================] - 2s 203ms/step\n",
      "/fast_scratch_1/atlas/pflow/jhimmens_working_files/pnet_data/processed_files/collected_data/rev_4/SavedNpz/deltaR=0.2_maxLen=800_EScale=1/val/rho/user.mswiatlo.40097513._000013.mltree.root_chunk_23_val.parquet.npz\n",
      "7/7 [==============================] - 2s 215ms/step\n",
      "/fast_scratch_1/atlas/pflow/jhimmens_working_files/pnet_data/processed_files/collected_data/rev_4/SavedNpz/deltaR=0.2_maxLen=800_EScale=1/val/rho/user.mswiatlo.40097513._000018.mltree.root_chunk_10_val.parquet.npz\n",
      "8/8 [==============================] - 2s 222ms/step\n",
      "/fast_scratch_1/atlas/pflow/jhimmens_working_files/pnet_data/processed_files/collected_data/rev_4/SavedNpz/deltaR=0.2_maxLen=800_EScale=1/val/rho/user.mswiatlo.40097513._000018.mltree.root_chunk_11_val.parquet.npz\n",
      "8/8 [==============================] - 2s 211ms/step\n",
      "/fast_scratch_1/atlas/pflow/jhimmens_working_files/pnet_data/processed_files/collected_data/rev_4/SavedNpz/deltaR=0.2_maxLen=800_EScale=1/val/rho/user.mswiatlo.40097513._000020.mltree.root_chunk_33_val.parquet.npz\n",
      "7/7 [==============================] - 2s 207ms/step\n",
      "/fast_scratch_1/atlas/pflow/jhimmens_working_files/pnet_data/processed_files/collected_data/rev_4/SavedNpz/deltaR=0.2_maxLen=800_EScale=1/val/rho/user.mswiatlo.40097513._000005.mltree.root_chunk_29_val.parquet.npz\n",
      "7/7 [==============================] - 2s 223ms/step\n",
      "/fast_scratch_1/atlas/pflow/jhimmens_working_files/pnet_data/processed_files/collected_data/rev_4/SavedNpz/deltaR=0.2_maxLen=800_EScale=1/val/rho/user.mswiatlo.40097513._000005.mltree.root_chunk_30_val.parquet.npz\n",
      "7/7 [==============================] - 2s 241ms/step\n",
      "/fast_scratch_1/atlas/pflow/jhimmens_working_files/pnet_data/processed_files/collected_data/rev_4/SavedNpz/deltaR=0.2_maxLen=800_EScale=1/val/rho/user.mswiatlo.40097513._000010.mltree.root_chunk_18_val.parquet.npz\n",
      "8/8 [==============================] - 2s 183ms/step\n",
      "/fast_scratch_1/atlas/pflow/jhimmens_working_files/pnet_data/processed_files/collected_data/rev_4/SavedNpz/deltaR=0.2_maxLen=800_EScale=1/val/rho/user.mswiatlo.40097513._000014.mltree.root_chunk_16_val.parquet.npz\n",
      "7/7 [==============================] - 1s 178ms/step\n",
      "/fast_scratch_1/atlas/pflow/jhimmens_working_files/pnet_data/processed_files/collected_data/rev_4/SavedNpz/deltaR=0.2_maxLen=800_EScale=1/val/rho/user.mswiatlo.40097513._000013.mltree.root_chunk_30_val.parquet.npz\n",
      "8/8 [==============================] - 2s 184ms/step\n",
      "/fast_scratch_1/atlas/pflow/jhimmens_working_files/pnet_data/processed_files/collected_data/rev_4/SavedNpz/deltaR=0.2_maxLen=800_EScale=1/val/rho/user.mswiatlo.40097513._000001.mltree.root_chunk_37_val.parquet.npz\n",
      "7/7 [==============================] - 1s 169ms/step\n",
      "/fast_scratch_1/atlas/pflow/jhimmens_working_files/pnet_data/processed_files/collected_data/rev_4/SavedNpz/deltaR=0.2_maxLen=800_EScale=1/val/rho/user.mswiatlo.40097513._000015.mltree.root_chunk_3_val.parquet.npz\n",
      "9/9 [==============================] - 1s 112ms/step\n",
      "/fast_scratch_1/atlas/pflow/jhimmens_working_files/pnet_data/processed_files/collected_data/rev_4/SavedNpz/deltaR=0.2_maxLen=800_EScale=1/val/rho/user.mswiatlo.40097513._000014.mltree.root_chunk_11_val.parquet.npz\n",
      "7/7 [==============================] - 1s 114ms/step\n",
      "/fast_scratch_1/atlas/pflow/jhimmens_working_files/pnet_data/processed_files/collected_data/rev_4/SavedNpz/deltaR=0.2_maxLen=800_EScale=1/val/rho/user.mswiatlo.40097513._000002.mltree.root_chunk_16_val.parquet.npz\n",
      "8/8 [==============================] - 1s 111ms/step\n",
      "/fast_scratch_1/atlas/pflow/jhimmens_working_files/pnet_data/processed_files/collected_data/rev_4/SavedNpz/deltaR=0.2_maxLen=800_EScale=1/val/rho/user.mswiatlo.40097513._000010.mltree.root_chunk_35_val.parquet.npz\n",
      "8/8 [==============================] - 1s 122ms/step\n",
      "/fast_scratch_1/atlas/pflow/jhimmens_working_files/pnet_data/processed_files/collected_data/rev_4/SavedNpz/deltaR=0.2_maxLen=800_EScale=1/val/rho/user.mswiatlo.40097513._000008.mltree.root_chunk_2_val.parquet.npz\n",
      "8/8 [==============================] - 1s 163ms/step\n",
      "/fast_scratch_1/atlas/pflow/jhimmens_working_files/pnet_data/processed_files/collected_data/rev_4/SavedNpz/deltaR=0.2_maxLen=800_EScale=1/val/rho/user.mswiatlo.40097513._000018.mltree.root_chunk_20_val.parquet.npz\n",
      "8/8 [==============================] - 2s 195ms/step\n",
      "/fast_scratch_1/atlas/pflow/jhimmens_working_files/pnet_data/processed_files/collected_data/rev_4/SavedNpz/deltaR=0.2_maxLen=800_EScale=1/val/rho/user.mswiatlo.40097513._000021.mltree.root_chunk_18_val.parquet.npz\n",
      "7/7 [==============================] - 1s 197ms/step\n",
      "/fast_scratch_1/atlas/pflow/jhimmens_working_files/pnet_data/processed_files/collected_data/rev_4/SavedNpz/deltaR=0.2_maxLen=800_EScale=1/val/rho/user.mswiatlo.40097513._000002.mltree.root_chunk_17_val.parquet.npz\n",
      "7/7 [==============================] - 2s 252ms/step\n",
      "/fast_scratch_1/atlas/pflow/jhimmens_working_files/pnet_data/processed_files/collected_data/rev_4/SavedNpz/deltaR=0.2_maxLen=800_EScale=1/val/rho/user.mswiatlo.40097513._000010.mltree.root_chunk_33_val.parquet.npz\n",
      "7/7 [==============================] - 2s 250ms/step\n",
      "/fast_scratch_1/atlas/pflow/jhimmens_working_files/pnet_data/processed_files/collected_data/rev_4/SavedNpz/deltaR=0.2_maxLen=800_EScale=1/val/rho/user.mswiatlo.40097513._000013.mltree.root_chunk_28_val.parquet.npz\n",
      "7/7 [==============================] - 1s 179ms/step\n",
      "/fast_scratch_1/atlas/pflow/jhimmens_working_files/pnet_data/processed_files/collected_data/rev_4/SavedNpz/deltaR=0.2_maxLen=800_EScale=1/val/rho/user.mswiatlo.40097513._000022.mltree.root_chunk_31_val.parquet.npz\n",
      "8/8 [==============================] - 2s 176ms/step\n",
      "/fast_scratch_1/atlas/pflow/jhimmens_working_files/pnet_data/processed_files/collected_data/rev_4/SavedNpz/deltaR=0.2_maxLen=800_EScale=1/val/rho/user.mswiatlo.40097513._000017.mltree.root_chunk_3_val.parquet.npz\n",
      "8/8 [==============================] - 2s 190ms/step\n",
      "/fast_scratch_1/atlas/pflow/jhimmens_working_files/pnet_data/processed_files/collected_data/rev_4/SavedNpz/deltaR=0.2_maxLen=800_EScale=1/val/rho/user.mswiatlo.40097513._000021.mltree.root_chunk_24_val.parquet.npz\n",
      "8/8 [==============================] - 2s 237ms/step\n",
      "/fast_scratch_1/atlas/pflow/jhimmens_working_files/pnet_data/processed_files/collected_data/rev_4/SavedNpz/deltaR=0.2_maxLen=800_EScale=1/val/rho/user.mswiatlo.40097513._000012.mltree.root_chunk_17_val.parquet.npz\n",
      "7/7 [==============================] - 2s 245ms/step\n",
      "/fast_scratch_1/atlas/pflow/jhimmens_working_files/pnet_data/processed_files/collected_data/rev_4/SavedNpz/deltaR=0.2_maxLen=800_EScale=1/val/rho/user.mswiatlo.40097513._000020.mltree.root_chunk_20_val.parquet.npz\n",
      "8/8 [==============================] - 2s 246ms/step\n",
      "/fast_scratch_1/atlas/pflow/jhimmens_working_files/pnet_data/processed_files/collected_data/rev_4/SavedNpz/deltaR=0.2_maxLen=800_EScale=1/val/rho/user.mswiatlo.40097513._000011.mltree.root_chunk_8_val.parquet.npz\n",
      "8/8 [==============================] - 2s 213ms/step\n",
      "/fast_scratch_1/atlas/pflow/jhimmens_working_files/pnet_data/processed_files/collected_data/rev_4/SavedNpz/deltaR=0.2_maxLen=800_EScale=1/val/rho/user.mswiatlo.40097513._000008.mltree.root_chunk_0_val.parquet.npz\n",
      "7/7 [==============================] - 1s 113ms/step\n",
      "/fast_scratch_1/atlas/pflow/jhimmens_working_files/pnet_data/processed_files/collected_data/rev_4/SavedNpz/deltaR=0.2_maxLen=800_EScale=1/val/rho/user.mswiatlo.40097513._000003.mltree.root_chunk_20_val.parquet.npz\n",
      "8/8 [==============================] - 1s 101ms/step\n",
      "/fast_scratch_1/atlas/pflow/jhimmens_working_files/pnet_data/processed_files/collected_data/rev_4/SavedNpz/deltaR=0.2_maxLen=800_EScale=1/val/rho/user.mswiatlo.40097513._000006.mltree.root_chunk_7_val.parquet.npz\n",
      "8/8 [==============================] - 1s 106ms/step\n",
      "/fast_scratch_1/atlas/pflow/jhimmens_working_files/pnet_data/processed_files/collected_data/rev_4/SavedNpz/deltaR=0.2_maxLen=800_EScale=1/val/rho/user.mswiatlo.40097513._000021.mltree.root_chunk_38_val.parquet.npz\n",
      "8/8 [==============================] - 1s 111ms/step\n",
      "/fast_scratch_1/atlas/pflow/jhimmens_working_files/pnet_data/processed_files/collected_data/rev_4/SavedNpz/deltaR=0.2_maxLen=800_EScale=1/val/rho/user.mswiatlo.40097513._000020.mltree.root_chunk_7_val.parquet.npz\n",
      "8/8 [==============================] - 1s 112ms/step\n",
      "/fast_scratch_1/atlas/pflow/jhimmens_working_files/pnet_data/processed_files/collected_data/rev_4/SavedNpz/deltaR=0.2_maxLen=800_EScale=1/val/rho/user.mswiatlo.40097513._000014.mltree.root_chunk_6_val.parquet.npz\n",
      "8/8 [==============================] - 1s 154ms/step\n",
      "/fast_scratch_1/atlas/pflow/jhimmens_working_files/pnet_data/processed_files/collected_data/rev_4/SavedNpz/deltaR=0.2_maxLen=800_EScale=1/val/rho/user.mswiatlo.40097513._000002.mltree.root_chunk_15_val.parquet.npz\n",
      "8/8 [==============================] - 2s 203ms/step\n",
      "/fast_scratch_1/atlas/pflow/jhimmens_working_files/pnet_data/processed_files/collected_data/rev_4/SavedNpz/deltaR=0.2_maxLen=800_EScale=1/val/rho/user.mswiatlo.40097513._000021.mltree.root_chunk_4_val.parquet.npz\n",
      "8/8 [==============================] - 2s 204ms/step\n",
      "/fast_scratch_1/atlas/pflow/jhimmens_working_files/pnet_data/processed_files/collected_data/rev_4/SavedNpz/deltaR=0.2_maxLen=800_EScale=1/val/rho/user.mswiatlo.40097513._000007.mltree.root_chunk_34_val.parquet.npz\n",
      "6/6 [==============================] - 1s 186ms/step\n",
      "/fast_scratch_1/atlas/pflow/jhimmens_working_files/pnet_data/processed_files/collected_data/rev_4/SavedNpz/deltaR=0.2_maxLen=800_EScale=1/val/rho/user.mswiatlo.40097513._000018.mltree.root_chunk_7_val.parquet.npz\n",
      "8/8 [==============================] - 2s 190ms/step\n",
      "/fast_scratch_1/atlas/pflow/jhimmens_working_files/pnet_data/processed_files/collected_data/rev_4/SavedNpz/deltaR=0.2_maxLen=800_EScale=1/val/rho/user.mswiatlo.40097513._000007.mltree.root_chunk_23_val.parquet.npz\n",
      "7/7 [==============================] - 2s 237ms/step\n",
      "/fast_scratch_1/atlas/pflow/jhimmens_working_files/pnet_data/processed_files/collected_data/rev_4/SavedNpz/deltaR=0.2_maxLen=800_EScale=1/val/rho/user.mswiatlo.40097513._000008.mltree.root_chunk_33_val.parquet.npz\n",
      "7/7 [==============================] - 1s 178ms/step\n",
      "/fast_scratch_1/atlas/pflow/jhimmens_working_files/pnet_data/processed_files/collected_data/rev_4/SavedNpz/deltaR=0.2_maxLen=800_EScale=1/val/rho/user.mswiatlo.40097513._000017.mltree.root_chunk_23_val.parquet.npz\n",
      "7/7 [==============================] - 2s 221ms/step\n",
      "/fast_scratch_1/atlas/pflow/jhimmens_working_files/pnet_data/processed_files/collected_data/rev_4/SavedNpz/deltaR=0.2_maxLen=800_EScale=1/val/rho/user.mswiatlo.40097513._000020.mltree.root_chunk_10_val.parquet.npz\n",
      "7/7 [==============================] - 1s 179ms/step\n",
      "/fast_scratch_1/atlas/pflow/jhimmens_working_files/pnet_data/processed_files/collected_data/rev_4/SavedNpz/deltaR=0.2_maxLen=800_EScale=1/val/rho/user.mswiatlo.40097513._000008.mltree.root_chunk_23_val.parquet.npz\n",
      "7/7 [==============================] - 2s 241ms/step\n",
      "/fast_scratch_1/atlas/pflow/jhimmens_working_files/pnet_data/processed_files/collected_data/rev_4/SavedNpz/deltaR=0.2_maxLen=800_EScale=1/val/rho/user.mswiatlo.40097513._000003.mltree.root_chunk_36_val.parquet.npz\n",
      "8/8 [==============================] - 1s 155ms/step\n",
      "/fast_scratch_1/atlas/pflow/jhimmens_working_files/pnet_data/processed_files/collected_data/rev_4/SavedNpz/deltaR=0.2_maxLen=800_EScale=1/val/rho/user.mswiatlo.40097513._000013.mltree.root_chunk_19_val.parquet.npz\n",
      "delta\n",
      "/fast_scratch_1/atlas/pflow/jhimmens_working_files/pnet_data/processed_files/collected_data/rev_4/SavedNpz/deltaR=0.2_maxLen=800_EScale=1/val\n"
     ]
    },
    {
     "data": {
      "application/vnd.jupyter.widget-view+json": {
       "model_id": "0e2a8bdbd0dd4338841c41e7144545bd",
       "version_major": 2,
       "version_minor": 0
      },
      "text/plain": [
       "delta: 0it [00:00, ?it/s]"
      ]
     },
     "metadata": {},
     "output_type": "display_data"
    },
    {
     "name": "stdout",
     "output_type": "stream",
     "text": [
      "/fast_scratch_1/atlas/pflow/jhimmens_working_files/pnet_data/processed_files/collected_data/rev_4/SavedNpz/deltaR=0.2_maxLen=800_EScale=1/val/delta/user.mswiatlo.40097496._000002.mltree.root_chunk_27_val.parquet.npz\n",
      "8/8 [==============================] - 1s 146ms/step\n",
      "saving: event=000368969_track=000\n",
      "saving: event=000368959_track=000\n",
      "saving: event=000368975_track=000\n",
      "saving: event=000368931_track=000\n",
      "saving: event=000368997_track=000\n",
      "saving: event=000368973_track=000\n",
      "saving: event=000368893_track=000\n",
      "saving: event=000368790_track=000\n",
      "saving: event=000368790_track=001\n",
      "saving: event=000368771_track=000\n",
      "/fast_scratch_1/atlas/pflow/jhimmens_working_files/pnet_data/processed_files/collected_data/rev_4/SavedNpz/deltaR=0.2_maxLen=800_EScale=1/val/delta/user.mswiatlo.40097496._000008.mltree.root_chunk_7_val.parquet.npz\n",
      "8/8 [==============================] - 1s 118ms/step\n",
      "/fast_scratch_1/atlas/pflow/jhimmens_working_files/pnet_data/processed_files/collected_data/rev_4/SavedNpz/deltaR=0.2_maxLen=800_EScale=1/val/delta/user.mswiatlo.40097496._000016.mltree.root_chunk_19_val.parquet.npz\n",
      "8/8 [==============================] - 1s 99ms/step\n",
      "/fast_scratch_1/atlas/pflow/jhimmens_working_files/pnet_data/processed_files/collected_data/rev_4/SavedNpz/deltaR=0.2_maxLen=800_EScale=1/val/delta/user.mswiatlo.40097496._000021.mltree.root_chunk_11_val.parquet.npz\n",
      "7/7 [==============================] - 1s 83ms/step\n",
      "/fast_scratch_1/atlas/pflow/jhimmens_working_files/pnet_data/processed_files/collected_data/rev_4/SavedNpz/deltaR=0.2_maxLen=800_EScale=1/val/delta/user.mswiatlo.40097496._000019.mltree.root_chunk_28_val.parquet.npz\n",
      "8/8 [==============================] - 1s 93ms/step\n",
      "/fast_scratch_1/atlas/pflow/jhimmens_working_files/pnet_data/processed_files/collected_data/rev_4/SavedNpz/deltaR=0.2_maxLen=800_EScale=1/val/delta/user.mswiatlo.40097496._000011.mltree.root_chunk_32_val.parquet.npz\n",
      "8/8 [==============================] - 1s 84ms/step\n",
      "/fast_scratch_1/atlas/pflow/jhimmens_working_files/pnet_data/processed_files/collected_data/rev_4/SavedNpz/deltaR=0.2_maxLen=800_EScale=1/val/delta/user.mswiatlo.40097496._000018.mltree.root_chunk_33_val.parquet.npz\n",
      "8/8 [==============================] - 1s 88ms/step\n",
      "/fast_scratch_1/atlas/pflow/jhimmens_working_files/pnet_data/processed_files/collected_data/rev_4/SavedNpz/deltaR=0.2_maxLen=800_EScale=1/val/delta/user.mswiatlo.40097496._000002.mltree.root_chunk_5_val.parquet.npz\n",
      "8/8 [==============================] - 1s 99ms/step\n",
      "/fast_scratch_1/atlas/pflow/jhimmens_working_files/pnet_data/processed_files/collected_data/rev_4/SavedNpz/deltaR=0.2_maxLen=800_EScale=1/val/delta/user.mswiatlo.40097496._000005.mltree.root_chunk_23_val.parquet.npz\n",
      "8/8 [==============================] - 1s 105ms/step\n",
      "/fast_scratch_1/atlas/pflow/jhimmens_working_files/pnet_data/processed_files/collected_data/rev_4/SavedNpz/deltaR=0.2_maxLen=800_EScale=1/val/delta/user.mswiatlo.40097496._000020.mltree.root_chunk_14_val.parquet.npz\n",
      "7/7 [==============================] - 1s 130ms/step\n",
      "/fast_scratch_1/atlas/pflow/jhimmens_working_files/pnet_data/processed_files/collected_data/rev_4/SavedNpz/deltaR=0.2_maxLen=800_EScale=1/val/delta/user.mswiatlo.40097496._000005.mltree.root_chunk_32_val.parquet.npz\n",
      "8/8 [==============================] - 2s 184ms/step\n",
      "/fast_scratch_1/atlas/pflow/jhimmens_working_files/pnet_data/processed_files/collected_data/rev_4/SavedNpz/deltaR=0.2_maxLen=800_EScale=1/val/delta/user.mswiatlo.40097496._000019.mltree.root_chunk_12_val.parquet.npz\n",
      "8/8 [==============================] - 1s 169ms/step\n",
      "/fast_scratch_1/atlas/pflow/jhimmens_working_files/pnet_data/processed_files/collected_data/rev_4/SavedNpz/deltaR=0.2_maxLen=800_EScale=1/val/delta/user.mswiatlo.40097496._000017.mltree.root_chunk_25_val.parquet.npz\n",
      "9/9 [==============================] - 1s 127ms/step\n",
      "/fast_scratch_1/atlas/pflow/jhimmens_working_files/pnet_data/processed_files/collected_data/rev_4/SavedNpz/deltaR=0.2_maxLen=800_EScale=1/val/delta/user.mswiatlo.40097496._000006.mltree.root_chunk_35_val.parquet.npz\n",
      "2/2 [==============================] - 0s 119ms/step\n",
      "/fast_scratch_1/atlas/pflow/jhimmens_working_files/pnet_data/processed_files/collected_data/rev_4/SavedNpz/deltaR=0.2_maxLen=800_EScale=1/val/delta/user.mswiatlo.40097496._000022.mltree.root_chunk_18_val.parquet.npz\n",
      "8/8 [==============================] - 1s 167ms/step\n",
      "/fast_scratch_1/atlas/pflow/jhimmens_working_files/pnet_data/processed_files/collected_data/rev_4/SavedNpz/deltaR=0.2_maxLen=800_EScale=1/val/delta/user.mswiatlo.40097496._000022.mltree.root_chunk_4_val.parquet.npz\n",
      "8/8 [==============================] - 1s 141ms/step\n",
      "/fast_scratch_1/atlas/pflow/jhimmens_working_files/pnet_data/processed_files/collected_data/rev_4/SavedNpz/deltaR=0.2_maxLen=800_EScale=1/val/delta/user.mswiatlo.40097496._000003.mltree.root_chunk_0_val.parquet.npz\n",
      "6/6 [==============================] - 1s 234ms/step\n",
      "/fast_scratch_1/atlas/pflow/jhimmens_working_files/pnet_data/processed_files/collected_data/rev_4/SavedNpz/deltaR=0.2_maxLen=800_EScale=1/val/delta/user.mswiatlo.40097496._000017.mltree.root_chunk_28_val.parquet.npz\n",
      "9/9 [==============================] - 2s 207ms/step\n",
      "/fast_scratch_1/atlas/pflow/jhimmens_working_files/pnet_data/processed_files/collected_data/rev_4/SavedNpz/deltaR=0.2_maxLen=800_EScale=1/val/delta/user.mswiatlo.40097496._000020.mltree.root_chunk_24_val.parquet.npz\n",
      "8/8 [==============================] - 1s 109ms/step\n",
      "/fast_scratch_1/atlas/pflow/jhimmens_working_files/pnet_data/processed_files/collected_data/rev_4/SavedNpz/deltaR=0.2_maxLen=800_EScale=1/val/delta/user.mswiatlo.40097496._000015.mltree.root_chunk_14_val.parquet.npz\n",
      "7/7 [==============================] - 1s 164ms/step\n",
      "/fast_scratch_1/atlas/pflow/jhimmens_working_files/pnet_data/processed_files/collected_data/rev_4/SavedNpz/deltaR=0.2_maxLen=800_EScale=1/val/delta/user.mswiatlo.40097496._000017.mltree.root_chunk_33_val.parquet.npz\n",
      "9/9 [==============================] - 1s 99ms/step\n",
      "/fast_scratch_1/atlas/pflow/jhimmens_working_files/pnet_data/processed_files/collected_data/rev_4/SavedNpz/deltaR=0.2_maxLen=800_EScale=1/val/delta/user.mswiatlo.40097496._000021.mltree.root_chunk_33_val.parquet.npz\n",
      "7/7 [==============================] - 1s 80ms/step\n",
      "/fast_scratch_1/atlas/pflow/jhimmens_working_files/pnet_data/processed_files/collected_data/rev_4/SavedNpz/deltaR=0.2_maxLen=800_EScale=1/val/delta/user.mswiatlo.40097496._000016.mltree.root_chunk_21_val.parquet.npz\n",
      "8/8 [==============================] - 1s 144ms/step\n",
      "/fast_scratch_1/atlas/pflow/jhimmens_working_files/pnet_data/processed_files/collected_data/rev_4/SavedNpz/deltaR=0.2_maxLen=800_EScale=1/val/delta/user.mswiatlo.40097496._000004.mltree.root_chunk_8_val.parquet.npz\n",
      "7/7 [==============================] - 1s 97ms/step\n",
      "/fast_scratch_1/atlas/pflow/jhimmens_working_files/pnet_data/processed_files/collected_data/rev_4/SavedNpz/deltaR=0.2_maxLen=800_EScale=1/val/delta/user.mswiatlo.40097496._000021.mltree.root_chunk_7_val.parquet.npz\n",
      "8/8 [==============================] - 1s 81ms/step\n",
      "/fast_scratch_1/atlas/pflow/jhimmens_working_files/pnet_data/processed_files/collected_data/rev_4/SavedNpz/deltaR=0.2_maxLen=800_EScale=1/val/delta/user.mswiatlo.40097496._000001.mltree.root_chunk_16_val.parquet.npz\n",
      "8/8 [==============================] - 1s 121ms/step\n",
      "/fast_scratch_1/atlas/pflow/jhimmens_working_files/pnet_data/processed_files/collected_data/rev_4/SavedNpz/deltaR=0.2_maxLen=800_EScale=1/val/delta/user.mswiatlo.40097496._000013.mltree.root_chunk_14_val.parquet.npz\n",
      "9/9 [==============================] - 1s 101ms/step\n",
      "/fast_scratch_1/atlas/pflow/jhimmens_working_files/pnet_data/processed_files/collected_data/rev_4/SavedNpz/deltaR=0.2_maxLen=800_EScale=1/val/delta/user.mswiatlo.40097496._000012.mltree.root_chunk_21_val.parquet.npz\n",
      "8/8 [==============================] - 1s 88ms/step\n",
      "/fast_scratch_1/atlas/pflow/jhimmens_working_files/pnet_data/processed_files/collected_data/rev_4/SavedNpz/deltaR=0.2_maxLen=800_EScale=1/val/delta/user.mswiatlo.40097496._000019.mltree.root_chunk_20_val.parquet.npz\n",
      "7/7 [==============================] - 1s 140ms/step\n",
      "/fast_scratch_1/atlas/pflow/jhimmens_working_files/pnet_data/processed_files/collected_data/rev_4/SavedNpz/deltaR=0.2_maxLen=800_EScale=1/val/delta/user.mswiatlo.40097496._000008.mltree.root_chunk_24_val.parquet.npz\n",
      "8/8 [==============================] - 2s 188ms/step\n",
      "/fast_scratch_1/atlas/pflow/jhimmens_working_files/pnet_data/processed_files/collected_data/rev_4/SavedNpz/deltaR=0.2_maxLen=800_EScale=1/val/delta/user.mswiatlo.40097496._000018.mltree.root_chunk_17_val.parquet.npz\n",
      "9/9 [==============================] - 1s 160ms/step\n",
      "/fast_scratch_1/atlas/pflow/jhimmens_working_files/pnet_data/processed_files/collected_data/rev_4/SavedNpz/deltaR=0.2_maxLen=800_EScale=1/val/delta/user.mswiatlo.40097496._000018.mltree.root_chunk_19_val.parquet.npz\n",
      "8/8 [==============================] - 1s 164ms/step\n",
      "/fast_scratch_1/atlas/pflow/jhimmens_working_files/pnet_data/processed_files/collected_data/rev_4/SavedNpz/deltaR=0.2_maxLen=800_EScale=1/val/delta/user.mswiatlo.40097496._000008.mltree.root_chunk_13_val.parquet.npz\n",
      "8/8 [==============================] - 1s 115ms/step\n",
      "/fast_scratch_1/atlas/pflow/jhimmens_working_files/pnet_data/processed_files/collected_data/rev_4/SavedNpz/deltaR=0.2_maxLen=800_EScale=1/val/delta/user.mswiatlo.40097496._000003.mltree.root_chunk_29_val.parquet.npz\n",
      "8/8 [==============================] - 1s 125ms/step\n",
      "/fast_scratch_1/atlas/pflow/jhimmens_working_files/pnet_data/processed_files/collected_data/rev_4/SavedNpz/deltaR=0.2_maxLen=800_EScale=1/val/delta/user.mswiatlo.40097496._000012.mltree.root_chunk_6_val.parquet.npz\n",
      "8/8 [==============================] - 1s 120ms/step\n",
      "/fast_scratch_1/atlas/pflow/jhimmens_working_files/pnet_data/processed_files/collected_data/rev_4/SavedNpz/deltaR=0.2_maxLen=800_EScale=1/val/delta/user.mswiatlo.40097496._000018.mltree.root_chunk_3_val.parquet.npz\n",
      "7/7 [==============================] - 1s 188ms/step\n",
      "/fast_scratch_1/atlas/pflow/jhimmens_working_files/pnet_data/processed_files/collected_data/rev_4/SavedNpz/deltaR=0.2_maxLen=800_EScale=1/val/delta/user.mswiatlo.40097496._000007.mltree.root_chunk_9_val.parquet.npz\n",
      "7/7 [==============================] - 1s 180ms/step\n",
      "/fast_scratch_1/atlas/pflow/jhimmens_working_files/pnet_data/processed_files/collected_data/rev_4/SavedNpz/deltaR=0.2_maxLen=800_EScale=1/val/delta/user.mswiatlo.40097496._000018.mltree.root_chunk_9_val.parquet.npz\n",
      "7/7 [==============================] - 1s 177ms/step\n",
      "/fast_scratch_1/atlas/pflow/jhimmens_working_files/pnet_data/processed_files/collected_data/rev_4/SavedNpz/deltaR=0.2_maxLen=800_EScale=1/val/delta/user.mswiatlo.40097496._000004.mltree.root_chunk_26_val.parquet.npz\n",
      "8/8 [==============================] - 1s 119ms/step\n",
      "/fast_scratch_1/atlas/pflow/jhimmens_working_files/pnet_data/processed_files/collected_data/rev_4/SavedNpz/deltaR=0.2_maxLen=800_EScale=1/val/delta/user.mswiatlo.40097496._000006.mltree.root_chunk_28_val.parquet.npz\n",
      "8/8 [==============================] - 1s 106ms/step\n",
      "/fast_scratch_1/atlas/pflow/jhimmens_working_files/pnet_data/processed_files/collected_data/rev_4/SavedNpz/deltaR=0.2_maxLen=800_EScale=1/val/delta/user.mswiatlo.40097496._000005.mltree.root_chunk_13_val.parquet.npz\n",
      "9/9 [==============================] - 1s 125ms/step\n",
      "/fast_scratch_1/atlas/pflow/jhimmens_working_files/pnet_data/processed_files/collected_data/rev_4/SavedNpz/deltaR=0.2_maxLen=800_EScale=1/val/delta/user.mswiatlo.40097496._000001.mltree.root_chunk_27_val.parquet.npz\n",
      "8/8 [==============================] - 1s 118ms/step\n",
      "/fast_scratch_1/atlas/pflow/jhimmens_working_files/pnet_data/processed_files/collected_data/rev_4/SavedNpz/deltaR=0.2_maxLen=800_EScale=1/val/delta/user.mswiatlo.40097496._000018.mltree.root_chunk_11_val.parquet.npz\n",
      "7/7 [==============================] - 1s 105ms/step\n",
      "/fast_scratch_1/atlas/pflow/jhimmens_working_files/pnet_data/processed_files/collected_data/rev_4/SavedNpz/deltaR=0.2_maxLen=800_EScale=1/val/delta/user.mswiatlo.40097496._000015.mltree.root_chunk_16_val.parquet.npz\n",
      "9/9 [==============================] - 1s 101ms/step\n",
      "/fast_scratch_1/atlas/pflow/jhimmens_working_files/pnet_data/processed_files/collected_data/rev_4/SavedNpz/deltaR=0.2_maxLen=800_EScale=1/val/delta/user.mswiatlo.40097496._000003.mltree.root_chunk_16_val.parquet.npz\n"
     ]
    }
   ],
   "source": [
    "model_path = \"/home/jhimmens/workspace/jetpointnet/models/rev_4/collected_data/PointNet_best_name=valiant-plasma-941.keras\"\n",
    "sets_to_visualize = [\"JZ1\", 'JZ2', \"JZ3\", 'JZ4', \"rho\", 'delta']\n",
    "max_events_per_set = 10_000\n",
    "max_images_per_set = 10\n",
    "\n",
    "MODEL_NAME = model_path.split('/')[-1]\n",
    "VISUAL_PATH = REPO_PATH / \"visualizations\" / EXPERIMENT_NAME / MODEL_NAME\n",
    "\n",
    "model = PointNetSegmentation(MAX_SAMPLE_LENGTH, \n",
    "                             num_features=len(TRAIN_INPUTS), \n",
    "                             num_classes=1, \n",
    "                             output_activation_function=OUTPUT_ACTIVATION_FUNCTION,\n",
    "                             model_version=1)\n",
    "\n",
    "model.load_weights(model_path)\n",
    "\n",
    "generate_images_and_metadata(sets_to_visualize, model, max_events_per_set, max_images_per_set, VISUAL_PATH)"
   ]
  }
 ],
 "metadata": {
  "kernelspec": {
   "display_name": "Python 3",
   "language": "python",
   "name": "python3"
  },
  "language_info": {
   "codemirror_mode": {
    "name": "ipython",
    "version": 3
   },
   "file_extension": ".py",
   "mimetype": "text/x-python",
   "name": "python",
   "nbconvert_exporter": "python",
   "pygments_lexer": "ipython3",
   "version": "3.10.12"
  }
 },
 "nbformat": 4,
 "nbformat_minor": 2
}
